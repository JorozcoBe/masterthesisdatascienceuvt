{
  "nbformat": 4,
  "nbformat_minor": 0,
  "metadata": {
    "accelerator": "GPU",
    "colab": {
      "name": "SVM TF IDF (2).ipynb",
      "provenance": [],
      "collapsed_sections": [],
      "toc_visible": true
    },
    "kernelspec": {
      "display_name": "Python 3",
      "language": "python",
      "name": "python3"
    },
    "language_info": {
      "codemirror_mode": {
        "name": "ipython",
        "version": 3
      },
      "file_extension": ".py",
      "mimetype": "text/x-python",
      "name": "python",
      "nbconvert_exporter": "python",
      "pygments_lexer": "ipython3",
      "version": "3.7.4"
    }
  },
  "cells": [
    {
      "cell_type": "code",
      "metadata": {
        "colab": {
          "base_uri": "https://localhost:8080/"
        },
        "id": "kLAB7xhktNKd",
        "outputId": "ef290074-1bd8-4bba-bd33-2e5c3d04b209"
      },
      "source": [
        "from google.colab import drive \n",
        "drive.mount('/content/drive')"
      ],
      "execution_count": 1,
      "outputs": [
        {
          "output_type": "stream",
          "text": [
            "Mounted at /content/drive\n"
          ],
          "name": "stdout"
        }
      ]
    },
    {
      "cell_type": "markdown",
      "metadata": {
        "id": "V2w0wuGkxjgs"
      },
      "source": [
        "# Nueva sección"
      ]
    },
    {
      "cell_type": "markdown",
      "metadata": {
        "id": "ErSjjzdOxj5b"
      },
      "source": [
        "# Nueva sección"
      ]
    },
    {
      "cell_type": "code",
      "metadata": {
        "id": "3JhXIqCXs_d6"
      },
      "source": [
        "import os, json, csv\n",
        "\n",
        "def TranscriptExtractor(directory_youtubecsv, directory_transcripts):\n",
        "    \"This Function extracts a list from the dataset with the following string contents: [Video_ID, Video_Category, Video_Transcript, Video_Rating]\"\n",
        "\n",
        "    # first we load in all info from the youtube.csv we need\n",
        "    os.chdir(directory_youtubecsv)\n",
        "    with open('YouTube.csv', mode='r') as infile:\n",
        "        reader = csv.reader(infile)\n",
        "        youtube_ranked = []\n",
        "\n",
        "        for rows in reader:\n",
        "            youtube_ranked.append(rows)\n",
        "        youtube_ranked_data = {}\n",
        "\n",
        "    #  youtube_ranked_dat = {'QeHGDr81XwM': '1', 'yPL6jOa6AH8': '1'}\n",
        "    for listed in youtube_ranked:\n",
        "        youtube_ranked_data.update({listed[1][32:]: listed[5]})\n",
        "        \n",
        "    ## now for the transcript data\n",
        "    id_cat_transcripts = []\n",
        "\n",
        "    os.chdir(directory_transcripts)\n",
        "\n",
        "    # firearms\n",
        "    with open('firearms_transcript.json') as f:\n",
        "        data_transcript_firearms = json.load(f)\n",
        "        \n",
        "    # here we fill up a dataset with: [ID, Category, Transcript, Final rating] for firearms\n",
        "    # id_transcripts_firearms = = ['_0ah0X92wdY', '_-Wdwjlu9mY', 'VCS4fXFmCyA']\n",
        "    id_transcripts_firearms = list(data_transcript_firearms.keys())\n",
        "    \n",
        "   \n",
        "    #id_cat_transcripts: ['_0ah0X92wdY', 'firearms', \"do not attempt to m....\",\"1\"]\n",
        "    for id in id_transcripts_firearms:\n",
        "        id_cat_transcripts.append([id, \"firearms\", data_transcript_firearms[id], youtube_ranked_data[id]])\n",
        "        \n",
        "    \n",
        "\n",
        "    # fitness\n",
        "    with open('fitness_transcript.json') as f:\n",
        "        data_transcript_fitness = json.load(f)\n",
        "    \n",
        "    # # here we fill up a dataset with: [ID, Category, Transcript, Final rating] for fitness\n",
        "    id_transcripts_fitness = list(data_transcript_fitness.keys())\n",
        "   \n",
        "    for id in id_transcripts_fitness:\n",
        "        id_cat_transcripts.append([id, \"fitness\", data_transcript_fitness[id], youtube_ranked_data[id]])\n",
        "\n",
        "    # # gurus\n",
        "    with open('gurus_transcript.json') as f:\n",
        "        data_transcript_gurus = json.load(f)\n",
        "    \n",
        "    # # here we fill up a dataset with: [ID, Category, Transcript, Final rating] for fitness\n",
        "    id_transcripts_gurus = list(data_transcript_gurus.keys())\n",
        "    \n",
        "    for id in id_transcripts_gurus:\n",
        "        id_cat_transcripts.append([id, \"gurus\", data_transcript_gurus[id], youtube_ranked_data[id]])\n",
        "\n",
        "    # # martial_arts\n",
        "    with open('martial_arts_transcript.json') as f:\n",
        "        data_transcript_martial_arts = json.load(f)\n",
        "    \n",
        "    # # here we fill up a dataset with: [ID, Category, Transcript, Final rating] for fitness\n",
        "    id_transcripts_martial_arts = list(data_transcript_martial_arts.keys())\n",
        "    \n",
        "    for id in id_transcripts_martial_arts:\n",
        "        id_cat_transcripts.append([id, \"martial_arts\", data_transcript_martial_arts[id], youtube_ranked_data[id]])\n",
        "\n",
        "    # # natural foods\n",
        "    with open('natural_foods_transcript.json') as f:\n",
        "        data_transcript_natural_foods = json.load(f)\n",
        "    \n",
        "    # # here we fill up a dataset with: [ID, Category, Transcript, Final rating] for fitness\n",
        "    id_transcripts_natural_foods = list(data_transcript_natural_foods.keys())\n",
        "    \n",
        "    for id in id_transcripts_natural_foods:\n",
        "        id_cat_transcripts.append([id, \"natural_foods\", data_transcript_natural_foods[id], youtube_ranked_data[id]])\n",
        "\n",
        "    # # tiny houses\n",
        "    with open('tiny_houses_transcript.json') as f:\n",
        "        data_transcript_tiny_houses = json.load(f)\n",
        "    \n",
        "    # # here we fill up a dataset with: [ID, Category, Transcript, Final rating] for fitness\n",
        "    id_transcripts_tiny_houses = list(data_transcript_tiny_houses.keys())\n",
        "    \n",
        "    for id in id_transcripts_tiny_houses:\n",
        "        id_cat_transcripts.append([id, \"tiny_houses\", data_transcript_tiny_houses[id], youtube_ranked_data[id]])\n",
        "\n",
        "    ## we now have a full set of 600 entries containing all video ID's, categories, transcripts and rankings\n",
        "    # print(id_cat_transcripts)\n",
        "\n",
        "    # NOW! let's remove all empty transcripts\n",
        "    id_cat_transcripts_emptycleaned = []\n",
        "\n",
        "    for unit in id_cat_transcripts:\n",
        "        if unit[2] == '':\n",
        "            continue\n",
        "        else:\n",
        "            id_cat_transcripts_emptycleaned.append(unit)\n",
        "\n",
        "    return id_cat_transcripts_emptycleaned"
      ],
      "execution_count": 2,
      "outputs": []
    },
    {
      "cell_type": "code",
      "metadata": {
        "id": "wsbfJCris_d7"
      },
      "source": [
        "import os, json, csv\n",
        "\n",
        "def dataset_shuffler(ourwatched_set_filepath,  dataset_filepath, transcript_filepath, teamA_filepath, teamB_filepath):\n",
        "        \"\"\"\n",
        "        This function collects our transcript data from Marks set and ours, combines it into one\n",
        "        then stratified-splits it into test_data and training_data.\n",
        "        :param ourwatched_set_filepath: input the folder where Transcripts2nddataset.csv is located\n",
        "        :param pickle_filepath: input the folder path where you want to save the training and test set\n",
        "        :param dataset_filepath: input the folder path where the YouTube.csv is located\n",
        "        :param transcript_filepath: input the folder path where the JSONs of transcripts are located\n",
        "        :return: returns two variables, one with test, one with training data, can be called like this: test_data, training_data = dataset_shuffler('D:/School/CSAI/Thesis/Data Exploration Project','D:/School/CSAI/Thesis/Data Exploration Project','D:/School/CSAI/Thesis/Dataset','D:/School/CSAI/Thesis/Dataset/Transcripts')\n",
        "        also returns two picklefiles in the specified folder containing the same sets.\n",
        "        \"\"\"\n",
        "        import os\n",
        "        import csv\n",
        "        import numpy as np\n",
        "        import pickle\n",
        "        import sys\n",
        "\n",
        "        maxInt = int(sys.maxsize/10000000000)\n",
        "        csv.field_size_limit(maxInt)\n",
        "        \n",
        "        \n",
        "        \n",
        "        #from my_FunctionsModule_ForThesis import TranscriptExtractor\n",
        "        #Transcripts = TranscriptExtractor(dataset_filepath, transcript_filepath)\n",
        "        Transcripts =  TranscriptExtractor(dataset_filepath, transcript_filepath)\n",
        "        print (\"lentrasns\",len(Transcripts))\n",
        "       \n",
        "        blabla = Transcripts                     #['0dOVZ5TRCUw', 'firearms', \"welcome back\",'1']\n",
        "\n",
        "        blabla.sort()\n",
        "\n",
        "        bla = []\n",
        "        for item in blabla:\n",
        "            bla.append([item[2], item[3]])\n",
        "        new_k = []\n",
        "        \n",
        "        #bla  = [\"welcome back\", '1']\n",
        "       \n",
        "       \n",
        "        \n",
        "        for elem in bla:\n",
        "            if elem not in new_k:\n",
        "                new_k.append(elem)\n",
        "        bla = new_k\n",
        "        \n",
        "        \n",
        "        #bla : [\"welcome back everybody\",'1']\n",
        "\n",
        "        #Transcripts2nddataset = xrhIAf5Pdfc,\"We’ve heard a lot ...\", 3\n",
        "        ourwatchedset = []\n",
        "        os.chdir(ourwatched_set_filepath)\n",
        "        with open(ourwatched_set_filepath + '/Transcripts2nddataset.csv', 'r', encoding='utf8') as f:\n",
        "            csv_reader = csv.reader(f, delimiter=',')\n",
        "            for i, row in enumerate(csv_reader):\n",
        "                if i == 0:\n",
        "                    continue\n",
        "                else:\n",
        "                    ourwatchedset.append(row)\n",
        "                 \n",
        "        \n",
        "        teamA = []\n",
        "        os.chdir(teamA_filepath)\n",
        "        with open(teamA_filepath + '/data_team_a.csv', 'r', encoding='utf8') as f:\n",
        "            csv_reader = csv.reader(f, delimiter='|')\n",
        "            for i, row in enumerate(csv_reader):\n",
        "                if i == 0:\n",
        "                    continue\n",
        "                else:\n",
        "                    teamA.append(row)\n",
        "                    \n",
        "        teamB = []\n",
        "        os.chdir(teamB_filepath)\n",
        "        with open(teamB_filepath + '/data_team_b.csv', 'r', encoding='utf8') as f:\n",
        "            csv_reader = csv.reader(f, delimiter='|')\n",
        "            for i, row in enumerate(csv_reader):\n",
        "                if i == 0:\n",
        "                    continue\n",
        "                else:\n",
        "                    teamB.append(row)\n",
        "          \n",
        "          \n",
        "               \n",
        "\n",
        "        os.chdir(ourwatched_set_filepath)\n",
        "        \n",
        "        #new_k: [\"welcome back everybody\",´1´]\n",
        "        combined = []\n",
        "        for file in new_k:\n",
        "            combined.append([file[0], file[1]])\n",
        "        \n",
        "        #combined: [\"welcome back everybody\",'1']\n",
        "        \n",
        "                \n",
        "     \n",
        "\n",
        "        for transcript in ourwatchedset:\n",
        "            combined.append([transcript[1], transcript[2]])\n",
        "        \n",
        "       \n",
        "        for transcript in teamA:\n",
        "            combined.append([transcript[1], transcript[2]])    \n",
        "        \n",
        "        for transcript in teamB:\n",
        "            combined.append([transcript[1], transcript[2]])     \n",
        "            \n",
        "        \n",
        "        \n",
        "        # combined[1] : [\"the number one question that we get ove....\",'1']\n",
        "        # combined[-1]: [\"I got any problem with the government\",'2'] \n",
        "        \n",
        "        #X = []\n",
        "        #y = []\n",
        "        #for item in combined:\n",
        "         #   if item[1] != 'x':\n",
        "          #      X.append(item[0])\n",
        "           # if item[1] != 'x':\n",
        "            #    y.append(int(item[1]))\n",
        "        X = []\n",
        "        y = []\n",
        "        for item in combined:\n",
        "           \n",
        "            if item[1] != 'x':\n",
        "                X.append(item[0])\n",
        "            if item[1] != 'x':\n",
        "                if ((item[1])=='2' or (item[1]=='3')):\n",
        "                    val = 1\n",
        "                else:\n",
        "                    val=0\n",
        "                \n",
        "                y.append(int(val))\n",
        "                \n",
        "             \n",
        "        \n",
        "        #print (X[1]) welcome back everybody this is Eri .......\n",
        "        #print (y[1])    1\n",
        "        \n",
        "        X = np.array(X)\n",
        "        y = np.array(y)\n",
        "\n",
        "       \n",
        "        return X, y\n",
        "\n",
        "\n"
      ],
      "execution_count": 3,
      "outputs": []
    },
    {
      "cell_type": "code",
      "metadata": {
        "id": "DgFyCm_as_d7"
      },
      "source": [
        "# defining the NLP cleaner (lemmatization, tokenization, stopword removal, remove small tokens, decapitalization and alphanumerical only)\n",
        "def my_cleaner(text):\n",
        "    return[token.lemma_.lower() for token in nlp(text) if not (token.is_stop or token.is_alpha==False or len(token.lemma_)<3)]\n",
        "\n"
      ],
      "execution_count": 4,
      "outputs": []
    },
    {
      "cell_type": "code",
      "metadata": {
        "colab": {
          "base_uri": "https://localhost:8080/"
        },
        "id": "wwY_AldVs_d7",
        "outputId": "aed96252-8607-40c0-c7c6-a6be7be166b8"
      },
      "source": [
        "import numpy as np\n",
        "import pandas as pd\n",
        "import pickle\n",
        "import os\n",
        "import json\n",
        "import sys\n",
        "import nltk\n",
        "import nltk\n",
        "import gensim\n",
        "import multiprocessing\n",
        "import matplotlib.pyplot as plt\n",
        "\n",
        "# keras\n",
        "from keras.preprocessing.text import Tokenizer\n",
        "from keras.preprocessing.sequence import pad_sequences\n",
        "from keras.layers import Conv1D, MaxPooling1D, Embedding\n",
        "from keras.layers import Input, Dense, Embedding, Conv2D, MaxPooling2D, Dropout,concatenate\n",
        "from keras.layers.core import Reshape, Flatten\n",
        "from keras import regularizers\n",
        "from keras.models import Model\n",
        "from keras.optimizers import SGD, RMSprop, Adagrad, Adadelta, Adam, Adamax, Nadam\n",
        "from keras.callbacks import EarlyStopping\n",
        "from keras.layers import Embedding\n",
        "\n",
        "\n",
        "\n",
        "ourwatched_set_filepath = '/content/drive/MyDrive/thesis final/Tolga_2020-master/Tolga_2020-master/Baseline Resources'\n",
        "## filepath of: which folder the pickled data should be stored\n",
        "pickle_filepath = '/content/drive/MyDrive/thesis final/Tolga_2020-master/Tolga_2020-master/Baseline Resources'\n",
        "\n",
        "## filepath of: labels of transcripts from ~480 videos (Alfano, et al.)\n",
        "dataset_filepath = '/content/drive/MyDrive/thesis final/Tolga_2020-master/Tolga_2020-master/Baseline Resources'\n",
        "\n",
        "## filepath of: transcripts from ~480 videos from (Alfano, et al.)\n",
        "transcript_filepath = '/content/drive/MyDrive/thesis final/Tolga_2020-master/Tolga_2020-master/Baseline Resources'\n",
        "\n",
        "#team_filepath = '/content/drive/MyDrive/Tolga_2020-master/Tolga_2020-master/Baseline Resources'\n",
        "\n",
        "teamA_filepath = '/content/drive/MyDrive/thesis final'\n",
        "teamB_filepath = '/content/drive/MyDrive/thesis final'\n",
        "\n",
        "X, y = dataset_shuffler(ourwatched_set_filepath,  dataset_filepath, transcript_filepath, teamA_filepath, teamB_filepath)\n",
        "\n"
      ],
      "execution_count": 5,
      "outputs": [
        {
          "output_type": "stream",
          "text": [
            "lentrasns 480\n"
          ],
          "name": "stdout"
        }
      ]
    },
    {
      "cell_type": "code",
      "metadata": {
        "colab": {
          "base_uri": "https://localhost:8080/"
        },
        "id": "rXB3k6O23zPv",
        "outputId": "038651ee-4b57-4f30-f6c0-85cc2cf44063"
      },
      "source": [
        "from sklearn.feature_extraction.text import TfidfVectorizer\n",
        "vectorizer = TfidfVectorizer(max_features=5000)\n",
        "train_features = vectorizer.fit_transform(X)\n",
        "train_features = train_features.toarray()\n",
        "print(train_features.shape)\n",
        "print(X[0])\n"
      ],
      "execution_count": 6,
      "outputs": [
        {
          "output_type": "stream",
          "text": [
            "(484, 5000)\n",
            "tonight's talk this is the most popular talk we've ever done in 15 years tonight is the third so it's been a weekend of Jordan Peterson rich with has been a huge pleasure for anyone who doesn't know him and last night I think it was one babe in arms and tonight it's probably my mother he is a was a professor associate professor at Harvard University and is now the professor of clinical psychology at Toronto his first book was a huge success it revolutionized the psychology of religion and his latest book of the 12 rules of life is set to do exactly the same just a few housekeeping things at the end of the talk we're going to have a Q&A which I'm going to moderate so do prepare your questions please make them questions and also for those people in the livestream there'll be posted notes and you can't hand questions for the ushers and we'll be taking those as well so I look forward to that and at the end of it we're going to be doing not so much as signing but here on stage a dedication everyone's book is or pretty but everyone's book is already signed so if you want to if you don't want a dedication then just leave you on the third page you'll find the signature in order to last night there was a huge queue as you can imagine in order to make the queue run smoothly and sorry to sound bossy but he's not going to be doing selfies  just because it means he's got a stand up the whole time and it'll slow down the flow but he is very happy to be photographed and you can photobomb him if you'd like  also because all of us particularly me are really keen for him to solve the problems of our lives please resist doing that during the dedication because it'll really slow everything down I think the three things that you can take away from this evening and you'll be the judges first of all be inspired by the talk secondly read the book and thirdly marry a Canadian I feel rather fortunate to have now done all three also if you would like to tweet its hashtag the rules of 12 rules of life so without further ado please welcome one of the world's great public intellectuals Jordan Peterson thank you [Applause]  [Applause] well that was nice so I thought I'd I talk about my book tonight um I give him two talks now and I didn't actually talk directly about it I sort of talked around it and so I thought I don't like to give the same talk twice so I thought I'd actually walked through it and and and outline it a little bit and so I had to spend most of the day memorizing the rules you know you'd think if you worked on something for three years or it's been five years I guess he'd actually have it memorized but memory is a very strange thing and it's it's very particular and goal-oriented and I actually didn't have the rules memorized it's certainly not their numbers so hopefully I do by now so I guess we're gonna find out but I have a copy of the book here in case I in case I forget so I think we'll go through them one by one and we'll see how see how that goes seven o'clock so all right good the first rule which is kind of a comical rule is stand up straight with your shoulders back and it's a meditation among other things on the habits of lobsters I read some papers on lobsters well must be ten years ago I guess and it they just absolutely blew me away and one of the things I've really loved about being a psychologist there's many things but I've really loved psychoanalytic theory and and the great clinicians the behaviorists as well I mean Freud Jung addler Carl Rogers Abraham Maslow that behaviors like Skinner and and and the cognitive behaviors I mean I've learned a tremendous amount from reading the clinicians and so if any of you are interested in psychology I would really recommend reading the great clinicians because they know they've learned so much about life it's crazy by reading them so that's been fun but then on the entirely other end of the spectrum where I've learned most about psychology is from the really low what would you call them the really science oriented animal behaviors that's where they would they turned into the neuroscientists right they were the animal behaviorists first of all and then they turned into the neuroscientists I've learned a tremendous amount from them there's such clear thinkers the best of the bunch I think there's two of them one named Jeffrey gray who wrote a book called the neural psychology of anxiety which is just a deadly book it's impossible to read it takes like six months to read it because I think he he read like 1,800 papers to write it or something like that and he actually read them that's the cool thing and he understood them which is really something then there's another guy named yak panksepp who wrote a book called how affective neuroscience which outlines his studies for example of rats he was the guy who learned that rats laugh if you tickle them with the end of a pencil eraser but they laugh ultrasonically like bats so you have to salute you have to slow down the ultrasonic vocalizations before you can hear them giggle and you think why the hell when you spend your time tickling rats with a pencil and making them laugh but see what he demonstrated there was that that there was a play circuit in mammals that there's an actual there's a psycho biological basis for rough-and-tumble play for example it's a bloody big deal you know discovering a whole new circuit in the brain that's like discovering a continent it's Nobel prize-winning stuff and panksepp so effective neuroscience I would highly recommend that so there's this other book I know about - which is twelve rules for life which you could also look into if you want anyways I was reading these these articles on lobsters and I came across this finding that lobsters lobsters governed their postural flexion with serotonin and I thought god that's so interesting it's so in deflection is this is to stand up straight hey wow that's so interesting because you know depressed people crouched over I wonder if there's any link between those two things and then I went and read a whole pile of papers on lobster lobster neural chemistry lobster neuro chemistry is actually quite well understood because they have a fairly simple nervous system right and so if you want to understand a complex nervous system it's a good idea to understand a simple one first and then sort of elaborate upwards and it turns out that serotonin governs status it governs status emotional regulation and posture in lobsters just like it does in human beings and so that would just blew me away and so one one one thing that the chapter one is about is the fact that if a lobster is defeated in a dominance battle you can give it essentially antidepressants and it will fight again I now that just blew me away you know it's so it's so remarkable because one of the things that tells you is that so if you're a debate imagine that you could be lobster top dog or bottom dog imagine there's 10 strata in the lobster hyrax and so you could be number one right top lobster number 10 bottom lobster if your bottom Lobster you have low serotonin levels than high octopamine levels that's the neurochemical that human beings don't produce and if you're a top lobster you have high serotonin levels and lower top amine levels and you can move a lobster in its dominance hierarchy by moderating its levels of serotonin and I thought that's so interesting because what it means is that the counter that keeps track of our status we have a counter in the sense in our minds that keeps track of our status is a third of a billion years old and what that also means is that the the idea of the hierarchy let's call it a dominance hierarchy because it within lobsters it's kind of like a physical prowess hierarchy something like that the idea of the hierarchy is at least 350 million years old and so I read that and I think well so much for the idea that human hierarchies are a socio-cultural construct it's like no that's wrong it's not just a little bit wrong it's unbelievably wrong it's mind-boggling ly wrong right and it's right and so so hierarchies hierarchies have been around for a third of a billion years and and we have a neurochemical system that modulates our our understanding of those hierarchies and then also and this is the interesting thing too and this is why people's reputations are so important to them among there's lots of reasons but this is one of them is that where this counter that you share with lobsters rates you in terms of your hierarchical position determines the ratio of negative emotion to positive emotion that you feel and that's also an absolutely mind-boggling idea for two reasons one is it tells you why it's so hard on people to be put down because it doesn't just upset them in the moment it changes the way their entire system responds to the world so that they now experience more positive emotion and less than eight less negative emotion so that's really rough and then there's a corollary to that too which is like there's a very tight relationship between your belief system and your dominance hierarchy position it's complicated but it's worth going through like let's say that so I have a certain amount of status as a professor and and and I have the let's call it the what would you say I've been granted the entitlement to a certain position in a in a social hierarchy now the question is why do I have a valid claim to that position and the answer hypothetically is because I know enough so that my claim to the position is valid so then if you stand up in the audience and challenge my beliefs and show that I'm wrong you might you might say well I get upset because I'm wrong but the more accurate reason that I get upset is because you're indicating to the crowd that my my position in the hierarchy of authority is invalid and by doing that you lower me in the hierarchy and you mess around with the neurochemical systems that are regulating my emotions and so if you're interested at least in part in why people are so prone to defend themselves and their beliefs in the service of their position then that's why and so that's a great example of how you can learn these unbelievable things by stumbling across a rather obscure biological fact it's just it's just what would you say it it's like it's like a series of dominoes and and that's also why biological facts are so useful it's like we don't have to argue about whether or not haha social hierarchies as I said or or hierarchies are social constructs a given hierarchy is influenced in its structure by socio cultural conditioning let's say but the fact of the hierarchy so like the part of your brain that detects and regulates your response to hierarchies is older than the part of your brain that recognizes trees like it's old it's really really fundamental and so and almost all social animals organize themselves and social in hierarchies because now the other thing that chapter one is a bit of a meditation on what might constitute a hierarchy one of my business colleagues a former student of mine from Harvard very very smart guy it's got a graduate degree in engineering from MIT and a PhD in psychology from Harvard so there's like one of him in the whole world and he's a very smart guy and he helped me design the self authoring suite by the way and he's been working for about 20 years on that that's the suite of programs that helps people write about their lives and straighten them out he told me to stop using the word dominance hierarchy and he said the reason for that was that it was infested with Marxist presuppositions and it really bothered me when he first said that because I've been using the word for years dominance hierarchy he said we had a discussion about that he said well it's predicated on the idea that you climb up the hierarchy human hierarchy as a consequence of the expression of power it's like that's wrong you climb up valid hierarchies as a consequence of the expression of competence and that's actually technically right he was exactly the right person to tell me that because he had done his PhD on what predicts success in Western hierarchies and the answer is quite clear general cognitive ability some prefrontal ability as well which was what he specifically tested so intelligence roughly speaking although it's a little bit more elaborate than intelligence but that's close enough and trait conscientiousness accounts for about 50 percent of the variance in long term success and you think well hey how do you want your society be structured it seems pretty good to me that smart hardworking people are the ones most likely to succeed that's not a bad empirical test of the validity of a structure you know especially given how much vagary there is in life lots of random things happen to people but it's better to be born three standard deviations above the mean in intelligence in the West and it is to be born three standard deviations above the mean in wealth in relationship to where you'll end up when you're 40 so he said to use the word competence hierarchy or we decided that I think that's much better so chapter 1 is a bit of a meditation on the nature of hierarchies in the biochemistry of hierarchy but it's also an injunction about how to present yourself because you don't you want to present yourself to the world in a manner that that doesn't disgrace you in some sense that that might be a good way to think about it and you don't want to disgrace yourself because the consequence of disgrace is its emotional dysregulation more pain less positive emotion and so the best way to present yourself is to stand up forthrightly and to stretch out you know and to occupy some space and to to to you make yourself sort of vulnerable by doing that because you open up the front of your body right but it's a sign of confidence and that way people are most likely to give you the benefit of the doubt and that's a good way to start regulating your mood but not only does it directly regulate your mood just stand up because it's so tightly associated like posture reflection is associated with serotonin and emotional regulation but also because if you straighten up and you present yourself in that manner then other people are more likely to take you seriously and that means they'll start treating you as if you're a number one lobster instead of a number ten lobster and that's another way that you can at least give yourself the bloody benefit of the doubt right and and and and and and and confront the world in a courageous manner and that's a really good way of also of of figuring out how to establish yourself in multiple competence hierarchies because one of the general rules of thumb about how to be successful is to confront things that frighten you forthrightly and with courage and that's kind of a universal strategy for success and so that's what the first chapter is about so that's quite fun my graduate students I told them these lobster stories a my graduate students when we used to go out for breakfast and they were very competitive Bunch very fractious and witty and they were always trying to get one over on each other a hundred making some witty put down or something like that and it got to the point in the restaurants where they put their claws in the urns click like this when they you know got one over on one of their colleagues which was very peculiar and strange and very funny as well so so that's rule number one rule number two is uh treat yourself like you're someone that you care about and that that's a deeper chapter I would say like chapter one is kind of comical but it's also got this serious scientific end for example and it's practical like most of the rules are chapter two is a bit of a meditation on why see I read this I read this site this piece of work by young a long while back and it was a meditation on the injunction to treat your neighbor as as you would like to be treated something like that and what Jung pointed out which I really liked was that that wasn't an injunction to be nice to other people it was an invitation to reciprocity it was something like this is like you should figure out how you would like to be treated like you were taking care of yourself not how you would like people to respond to you it's more important than that it's like imagine you had a child that you really cared for and someone said well people will treat this child exactly like you want them to but you have to figure out what that is and so then you'd have to sit down for like a month and you think okay well how do you want your child to be treated you don't want everyone just to be nice to him you know you want people to challenge him and you want people to discipline him and you want people to tell him when he's wrong it's like you don't just want everyone to be nice that's that's pathetic it's pathetic isn't there's no challenge in that and so well you want to treat other people like you would like to be treated well then you have to figure out how would you like to be treated and while you'd like people to fawn all over you and just lay everything at your feet it's like no that's not something you'd wish for for someone that you were taking care of and then then there's an additional problem which is it's often the case that people will treat other people better than they treat themselves that happens extremely frequently so one of the things I pointed out chapter 2 was that if you have a dog and you take him to a vet and the vet gives you your prescription medicine you'll go buy the medicine and you will give it to the dog and you will do it properly but if you go yourself to a doctor and you get a prescription there's one that there's a 30% chance you won't even pick up the medication and if you do there's a 50% chance that you won't administer it to yourself properly and so I really thought about that when I first came across that statistic it really it was another one of those little facts I thought what the hell's up with that it's like you'll do it for your dog so obviously you'll do it for something you care about and you're conscientious enough so you'll actually do it so like why wouldn't you do it for you your dog likes you you know even your dog would rather that you did but but you don't you don't and and it's actually one of the reasons that modern medicine doesn't nearly as well as it could because people just don't take their medication and it's not only because they don't take care of themselves there's some skepticism about doctors but you could be just as skeptical about the vet so it's a deep meditation I would say and it's what I've done with these rules is they're very simple rules and they're kind of comical and tongue-in-cheek in some ways but what I've tried to do is like pull them apart and show what's underneath them and to go down as deep as I possibly can and in rural - it's a bit of a meditation on why people don't like themselves very much and I think there's two reasons really and one is that we're we're fragile and damageable and imperfect in multiple dimensions all the time and that often just gets worse it gets lots of things get worse as you get old for example so it's not necessarily that easy for a self-conscious being who's extraordinarily aware of his or her own fragility and but not just fragility foolishness and errors his like you know yourself better than anyone else knows you and you know you you might have a certain amount of dislike for someone you know because of something they did but you know everything you did Jesus that's a drag man you know you have to carry that along behind like really I did that you know and then so there's that it's like you're you're weak and kind of useless and prone to temptation and you know all those things you know that just shouldn't be that way and then you're also capable of pretty vicious acts of malevolence and so you also know that about yourself and so it's a real existential question for people's like why the hell should you take care of something as sorry and wretched as you are and that's really what the chapter is about it's because the answer in the chapter is yeah yeah yeah you know you're first of all yes you're pretty useless and terrible but so is everyone else and that's actually an existential problem right and what I mean by that it's a problem that every human being has always had and always will so it's not just you it's a universal problem and that there's there's an answer to that and one of them is - what is it - say love the sinner but hate the sin it's something like that is that despite the fact that you're not all that you could be the proper attitude to have towards yourself is the attitude that you would have towards someone that you Jen only cared for and that it's incumbent on you to act as if you genuinely care for yourself just like you would act towards someone that you actually cared about some other person and so it's a reversal in some sense of the golden rule right and and it's a discussion of why that's necessary and also more than that it's a discussion of why why you have a moral obligation to do that it's not just that you should because it would be better for you it's you actually have a moral obligation to do that I think because you make the world a much better place it much worse place if you don't take care of yourself so you should bloody well take care of yourself you know because well that's what the chapters about it's partly because you have something valuable to bring into the world that's the thing about being an individual it's the thing that Western civilization has always recognized that as an individual you have a light that you have to bring into the world and that if you don't bring it into the world the world is a dimmer place and that's a bad thing because when the world is a dim place it can get very very very dark and so it's  necessary number one lobster now none of those things you need to take care of yourself because you're in the best position to do that and it's necessary for you to take care of yourself despite the fact that we're mortal and vulnerable and self-conscious and capable not only capable of doing terrible things but actually do them despite all that you you're still you still have that responsibility and so I wanted to you know hit the question as hard as I can to try to figure out well why people are have our contemptuous of themselves and there's plenty of reason that's for sure but the reasons do not justify the mistreatment of yourself it's as simple as that it's not a good strategy and the next rule is make friends with people who want the best for you and that's a meditation on my own childhood and adolescence to some degree I had friends who wanted the best for me and friends who didn't and you know they were friends who some of them were aiming up and some of them were aiming down and if you have a friend that's aiming down and you do something that's aiming up then they're generally not that happy about it you know they try to top your accomplishment with one of their own hypothetical or real or put down what you're doing or offer you a cigarette if you're trying to quit and you've kind of done that successfully or a drink if you've been drinking too much and are trying to stop being an alcoholic you know or or yeah they're cynical and bitter and and devoted towards no good and sometimes that's family members too and sometimes it's even part of you you know but this chapter is an injunction to people is like like you have an ethical responsibility to take care of yourself you have an ethical responsibility to surround yourself with people who have the courage and and faith and wisdom to wish you well when you've done something good and to stop you when you're doing something destructive and if your friends aren't like that then they're not your friends and maintaining your friendships with them might not even be in their interest and so it's a tricky argument to make because I'm not saying you know whenever anyone's in trouble you should you know push them into a ditch and then give them a couple of kicks that's that's not the idea the idea is that but I had a couple of rules I didn't write about one was be careful be careful about whom you share good news with and another was be careful about whom you share bad news with and everyone those rules ring in people's minds quite quickly a friend is someone you can share good news with you know you go to them and you say hey look this good thing happened to me and they say look I'm so happy that that happened to you like way to be and they don't think god damn it why didn't that happen to me and like you know you didn't deserve it here's a bunch of reasons you're stupid and why it won't work it's like that's not helpful and so I would say like if people are you know what the other thing people are doing if they're trying to drag you down let's say is they're trying to see if you'll put up with it because they have this idea that maybe life isn't worth living and things aren't good and then if they can be smirch let's say to use an archaic term something that's pristine and good then they demonstrate to themselves that there is no true ideal and that there's no necessary reason to be responsible and to strive forward and so they usually which is a test case you know I'll just push you down into the low lobster bin and see how you respond and if you put up with it then yeah my cynicism is fully justified and so well that's Chapter three and it's a painful chapter because it also details the suicide of one of my friends which occurred over long period of time not the actual suicide but all the prodrome a--to it and so and it's get sick it's a contentious chapter number four is compare yourself to who you were yesterday not to who someone else is today and the reason I wrote doubt was because I had this client ten young clinical psychologists and I spent 20 hours a week for 25 years listening to people listening to people tell me about their lives you know and and those people were people who were just barely hanging on to the bottom of the world up to people who were so successful you can hardly believe it's like the entire gamut of people and and that's been absolutely fascinating it's like it's like being a clinical psychologist if you really listen is like being immersed in a Dostoyevsky novel all the time you know because it's amazing what people will tell you if you listen to them they are people are so interesting if you actually listen to them because they're so peculiar like they're like penguins or rhinoceroses and ostriches they're unlikely creatures and anyways with regards to to comparing yourself to who you were yesterday and not to who someone else is today um this old client of mine he was about 85 when he came to see me and he was a financier in a kind of a mathematical genius he made these little pendants out of a mathematical symbol for the most beautiful mathematical equation that was ever written he made them out of gold and he would hand those out and and he studies psychology as a young man and he introduced me to this concept that I didn't know about called the Pareto distribution which see I'd been taught as a psychologist that most human characteristics who are normally distributed right so most people were average and some people were extreme that that's a priori our normal distribution intelligence is like that and height there's more people of average height than very tall or very short and weight is like that and lots of things are normally distributed and psychologists tend to assume that everything is but they didn't creative products are distributed in a Pareto distribution and that's a whole different thing and it's really important to know this it's another fundamental fact the knowledge of which can sort of transform the way you conceptualize let's say the political landscape so here's an example of the Pareto distribution huh you know there's a rule of thumb that if you run a company that 20% of your employees do 80% of the work or the 20% of your customers are responsible for 80% of your sales or the 20% of them are responsible for 80% of the customer service calls same thing but that's not exactly the rule the rule is worse than that the rule is in a given domain the square root of the number of people operating in that domain do half the productive work so you think well you have ten employees three of them do half the work it's like yeah okay what if you have a hundred employees then ten of them do half the work what if you have a thousand employees well then it's thirty and if it's ten thousand employees then it's a hundred and this actually turns out to be a rather ironclad rule it applies across very very many situations it applies for example to the mass of stars and the size of cities so you can see how universal it is as a law ditz it's something like those that have more get more and those that have less get less that's the Matthieu principle right to those who have everything more will be given from those who have nothing everything will be taken away and the economists sometimes call that the Matthieu principle and so what what that lays out is a wolf world that's rife with inequality so you know you you hear this idea that I think it's the 85 richest people in the world have more money than the bottom 2 billion that's a Pareto distribution phenomena and you might say to hell with capitalism for producing that it's like sorry you got your diagnosis wrong it's a natural law it's no no matter what society you study you get a purrito distribution of wealth you get a preeto distribution of number of records recorded you get a preeto distribution of number of songs written or goals scored like any creative product has that characteristic and it's partly because as you start to become successful let's say people offer you more and more opportunities and as you start to fail people move away from you and you plummet and so okay so that's rough so what it is what it means is that there is always a landscape of inequality and I'm not we shouldn't do anything about it although I am saying that we don't know what to do about it that's the thing you know because you can modify the preeto distribution of wealth let's say but if you but we don't know how to do it without maybe disrupting the system so completely that it collapses which is what happened in the Soviet Union for example and in Mao's China they were trying at least in principle to adjust inequality but the cure was far worse than the disease and the the truth of the matter is we actually don't know technically how much inequality there has to be to generate wealth we can guess and you could say well there should be less and you might say well there should be more if you're left when you'd say less and if there if you're right we need to say well we'll just let the inequality flourish but we do know that it's inevitable and we also know that we don't know how to regulate it so there is inequality what that means is there's always gonna be people around that are better at something than you are and the and that's a that's a problem because you can get jealous and you can get bitter and you can get resentful and worse you can get hopeless you know because you look like look like I have this is friend of mine he told me something so funny he was he was decrying his his lack of success in the world and he compared himself to his roommate and he said you know his roommate his college roommate was doing much better than he was and his bloody roommate was Elon Musk it's like doing as well as Elon Musk well I mean you can see me it would take it rather personally because they were roommates and everything it wasn't like he was doing badly like he wasn't doing pretty damn well it's like I'm not as good as Elon Musk it's like yeah well you and like seven billion other people you know but but I thought it was instructive because oh yes you have to be careful who you compare yourself to now you can't just not compare yourself to others to successful people right because then you don't have anything they a map and one of the things I learned from you this was a cool thing I'm gonna make a real lateral move here young thought the book of Revelation was appended to the Bible because the Christ in the Gospels was too merciful he was too nice a guy now he's an ideal right and Young said wait a second an ideal is always a judge that's the thing about an ideal because you're not as good as your ideal so your ideal as a judge revelation has Christ coming back as a judge and that was Young's explanation at the level of the collective unconscious for the pasting of that remarkably strange and terrible book on to the end of the of the of the Bible so well anyways my point is is an ideal is it you need an ideal because you have nothing to aim at but an ideal is a judge and you always fall short of the ideal so how the hell can you have the benefits of having an ideal without having the crushing blow that goes along with having the judge that always regards you as insufficient so I was trying to work that out in the chapter and this is something I've had to work out a lot as a clinical psychologist it's like well let's say you need a goal but we don't want to eat let your distance from the goal crush you so you got to set up a goal and then you go to make the goal break the goal down into parts so that you can move towards it you have a fairly high likelihood of doing it so that's a bit a bit of practical I wouldn't say advice it's it's because it's better than advice it's it's some practical knowledge about how to go about achieving an aim set a high aim but differentiate it down so you know what the next step is and then make the next step difficult enough so you have to push yourself past where you are but but also provide yourself with a reasonable probability of success it's also what you do with children right you you want to push them because they need to grow up and be more than they are right but you don't want to crush them with constant failure so what you do is aim high and make the goal procs difficult but proximal so anyways so that's one one one one way of looking at it but then the next thing is you know I've had clients many clients in their 30s who are trying to this is more true with women I would say a lot of women who were very high achieving and who established their career goals at 30 and then want a differentiator differentiate out their life they want to have a husband they want to have a family they're trying to figure out how to do that and one of the things I've noticed that around 30 you really have to stop comparing yourself in some ways to other people and the reason for that is that the particular tease of your life or so a do synchronic that there isn't anyone really all that much like you you know because the details of your life happened to matter and so maybe you compare yourself to some rock star or something like that and you know the person is rich and famous and glamorous and all that but you know they're alcoholic and they use too much cocaine and they've had three divorces and it's like how the hell do you make sense out of that is that someone that you should judge yourself harshly against or not the answer is you don't know because you don't know all the details of their lives and who do you know that you can compare yourself to that's easy you yesterday so here's a good goal it's something like well aim high and I really mean that it's like we'll talk about that a little bit to aim high but use as your control yourself it's like so your goal is to make today some tiny increment better than yesterday and you can use better you can define better yourself this doesn't have to be some imposition of external morality you know you know where you're weak and insufficient where you could improve sake okay well this is what I'm like yesterday if I did this little thing things would be just an increment better and well that's a great thing because you get the ball rolling and incremental improvement is unstoppable you can actually implement it and it starts to generate purrito distribution like consequences it starts to compound and I've seen that happen in people's lives over and all on people writing all the time and tell me that they're doing that but I've seen that happen in people's lives continually they make a goal a goal that the goal should be how could I conceive of my life so that if I had that life it would clearly be worth living so I wouldn't have to be bitter resentful deceitful arrogant and vengeful like that's sort of the bottom line right because that's what endless failure does to you it's not good and and and that's what life without purpose and a goal does to you as well because life is very hard so you think okay well I need to adopt a mode of being that would justify my suffering and you can ask yourself that questions what would make this worthwhile need a quote Nietzsche I think in that chapter he said he who has a why can bear almost any how that's a lovely line man I mean it's a lovely line and it's really worth thinking about so you think well how do I manage this misery and suffering and futility it's like well I need to figure out what I would have to do in order to make that clearly worthwhile and so then you have your goal and then you think well I need to move towards that incremental II because I'm kind of useless and can only do so much and maybe not even that and but all I have to do is be a little bit better than my my miserable self yesterday and that'll propel you forward very rapidly and and you can succeed at it which is also really lovely because why not set yourself up for success you know because otherwise you droop around like a number-10 Lobster and you know that's just not good you get home pinche when that happens and it's not a good thing so that was that was chapter four chapter five cheese we're cruising along here chapter five is the one that I thought I would get in the most trouble for writing you know I figured people would be all over me for this and so far they haven't been but they still might be so and it's called do not let your children do anything that makes you dislike them and I thought that would be contentious first of all because people would think well I never just like my children it's like really really you know you're gonna really tell me that God you know and there's a more there's a more horrifying element to that too because as a clinical psychologist I've seen the full Freudian nightmare I can tell you that and you know I've seen families where it's like this is like the family members are standing in a circle let's say and each of them has their hands around each other's neck and they're squeezing hard enough to strangle the other person in 20 years and that's the family it's like and you know if you if you haven't met a family like that or well then you're not paying attention and there's a there's some reasonable possibility that you're actually in the family like that so the idea that parents can't dislike their children it's like god how naive can you get it's just that's just if you think that man you I don't even know where you start to straighten yourself out I could never dislike my children's like yeah well those are the people who produce the most monstrous children - I can tell you that so so and then there's this idea that Young had which I really love which is the idea of the shadow and you know it kind of got pop psychology and trendy it's sort of among the new-age types - but one thing I can tell you about Carl Jung is no matter what else someone might say about him he is absolutely not new agey if you read Carl Jung and you understand him and you're not terrified right to the depths of your soul you haven't understood a damn thing you've read and one of the things that you said about the shadow which is the dark side of humanity the dark side of each individual was that its roots reached all the way to hell and he meant something he meant something very specific both metaphysical and practical by that the metaphysical element was he meant hell literally and metaphysically but he also meant the more proximal kinds of Hell and so what he meant was that if you were able to understand your dark side then you would see in yourself a reflection of the behavior that was that was present at Auschwitz for example and that the reason that people don't take the dark side of themselves seriously at all and even confront the fact that it exists is because no one wants to see that reflected within them and no wonder like it's it's absolutely no wonder you also believe that that confrontation with the shadow was an inevitable barrier to enlightenment that there was no you know Joseph Campbell who is a popularizer of Jung to some degree has become well known for saying follow your bliss and and and you know Campbell learned virtually everything he knew from Jung but Jung that isn't what Jung said at all he said pursue what's meaningful and you'll encounter that which you least want to encounter and that's well that's the dragon right that's the dragon that hoards gold for example and the dragon is also something that lives inside you and it's not something that you take the encounter with lightly there are very old stories about this Egyptian story about the god Horus who was that Egyptian Savior in some sense and when he encountered evil even though he was a god he lost an eye in the battle and so that's that's the famous Egyptian I you know that everyone still knows about that's the Eye of Horus that was torn out by Seth who's the precursor to Satan and so and so it's it's it's no joke it's no joke back to children see I kind of knew this when I had my kids I already undergone that to some degree and and understood what it meant to be a bad person a terrible person and one of the things I knew that was that that manifested itself in families all the time tyrannical father overprotective mother more rarely overprotective mother tyrannical overprotective father tyrannical mother it's usually the other way around and the terrible pathological familial drama that Freud made much of in the early 20th century I had seen that in many many situations dismal brutal awful and I've seen parents punish their children and you can also take a page from Nietzsche if you really want to punish your children or anyone else if you have someone you're interested in punishing including yourself you don't you know to ever punish someone you really want to punish for doing something wrong because that's actually a bit of a relief to them you know that's the theme of Dostoyevsky's crime and punishment the murderer gets away with it and it's a relief to him when he gets caught it's like no if you really want to punish someone you wait till they do something good then you punish them because that'll teach them that's you maximize the hurt that way you decrease the probability that they'll ever do anything good again and I'll tell you man if you want to have a good relationship with someone that's one thing you don't do you open your bloody eyes and if they do something that you would like them to do again then you tell them how much you appreciated the fact that that happened and you hope that it replicates you know you see that's it if there's one thing you can take away from tonight's lecture that's that's an extraordinarily useful thing to know watch and when people do something that they should do more of say look I saw that you did this specific thing I saw that it took some effort here's what it meant here's here's how I observed it's like keep that up and man if you love someone you do that to them that's that's encouragement that's such a great thing so anyways back to children so I already knew that I was pretty decent monster by the time I had kids and I thought well my kid my kids little you know like a baby or two-year-olds like I'm horrible monster and so there's an uneven power problem here I better not let that child do thing that really makes me angry you know now you hear now and then you hear about something horrible that happens I when I was in Boston years ago I read about a woman who plunged her two-year-old daughter's arms into boiling water you think well how in the world did not happen it's like well you know she's probably hungover she probably just lost her job she was probably desperate in six different ways she probably didn't have any decent discipline at her disciplinary strategies for children she probably didn't have anyone helping her she was bitter and resentful and angry and the child misbehaved at exactly the wrong moment and like you're gonna be around your children a lot and so you might want to have it so that they don't misbehave at exactly the wrong moment because all kid all hell can break loose if they can and I didn't want that to happen so and I knew that it was easy for people to hate their children even though they mouth the words that they loved them all the time I saw very little evidence of that many situations and so one of the things you know you have a natural affinity for children and even more it may be a more powerful natural affinity for your own children so that's a good start but you don't want to set them up as an enemy against you you don't want to allow them to engage in the kind of hierarchical challenge that makes you irritable and resentful that's not a good idea and if the things they do make you dislike them the probability that they will make other people dislike them is extraordinarily high and so you can consult your own irritability and you can say look kid I used to tell my kids this you know when they were three or four I'd say look I'm not in a very good mood and I'm likely to be unreasonable so it'd be best if you'd go in your room and play for a while it's like I like you man you're a great kid but like get the hell out of here for a while you know and they were fine with that we've trained them already at that point to be able to go play by themselves in the room you know which is something a kid should be able to do anyways but but you need to know what sort of monster you are if you're gonna be a good parent and if you think oh I'm not a monster it's like oh yes you are you're just an unbelievably unconscious monster and that's actually the worst kind so and then the other thing about that chapter is there's an idea in it and it's an idea that I think's well supported by the relevant literature which is that your fundamental job as a parent especially of a child from zero to four is to make that child lÃ©a desirable socially so what you're you're a successful parent if when your child is for all sorts of other children want to play with him or her that's really the that's like if you want one marker of whether or not you've been successful that's it now some children are a lot harder to get along with than others and some children have a harder time playing and so I'm not saying that every parent who has a child that isn't popular at four is that fault for that I'm not saying that I'm saying the reverse which is you can be sure that you've been successful if your child is not popular exactly but desirable as a playmate and so then you think well what have you done for your child well you've opened up the entire world of children to them so because they know how to play which is a very deep knowledge and it starts to become inculcated probably at the breast and certainly in the course of rough-and-tumble play at about two years of age it's a deep embodied knowledge they know how to play like a good well-trained dog knows how to play you know you meet a new dog if you go like this and the door goes like this you think oh that dog I can go like this and it will bite me right it knows how to play and a kid who's awake and alert is just like that like a well socialized kid if you know anything about kids is you can take a four-year-old make a little play gesture at them and they'll smile right away and start playing just right now and that's what you want for your kids and then everywhere they go other kids like them and will include them in their play and play is the way the children develop and so if other children include them in their play then the children develop and the poor kids that don't get befriended at the age of four with the literature on this is crystal clear if your child is an outcast at the age of four the probability that anything can be done about that is almost zero no matter what you do and I hate to be so blunt about that but I know the literature and that's what the literature suggests and so and then the other thing is if if you don't allow your children to engage in dislikable behavior then adults will like them because adults actually like kids you know one of the things I loved about having little kids in Montreal I lived in a poor area and much well there's a lot of rough guys around there and we used to roll our daughter around in the stroller these rough guys you know like god only knows what they were up to there looking guys you know we roll our daughter by them and they'd they'd like smile and they crouch down and make little GU faces and you know they were you I tell you one of the great things about having little kids is they bring out the best in other people you see a whole side of humanity even among the darker parts of humanity you see a whole side of them that you wouldn't normally see and it's lovely and the thing is if you're good to your kid and in the real way you can help them maintain that tremendous attractiveness that they have as young children and to respond to adults properly like a puppy that wags its tail instead of growls and you know goes for your ankle and then wherever they go adults welcome them and teach them things and Pat them on the head and smile at them genuinely instead of saying oh my god here comes that couple with that goddamn brat again you know which is the horrible that's horrible thing to do to a child because then everywhere they go all the good all the good will is false you know there's nothing that you can do to someone that's more terrible than to put them in a world where all the good will directed towards them is false that's a terrible thing so anyways that's what chapter let's chapter 5 and chapter 6 is about it's a rough chapter it's about I spend a lot of time reading about totalitarianism and about atrocity like some brutal many many brutal things brutal beyond the capacity of imagination even and I read a lot about individual criminals and serial killers and those sorts of people too trying to get to the bottom off one book I would really recommend is a book by carl panzram which is a an autobiography panzram is the name of the book and he was a here's a rough guy man his whatever his dying words to his executioner to his hangman he said hurry up you who's your bastard I could kill ten men in the time that it takes you to hang me that was his dying words you know he said I wish the human race had one neck so that I could put my hands around it and squeeze that was carl panzram and not many people like that right out of biographies but he did and he told you why he was like that and why he thought that way in case you want to find out which I would recommend by the way cuz it's very useful to know such things but um  now I have to remember why I've told you that panzram story oh yeah chapter six is about that it's a boat it's a boat panzram and it's about the Columbine kids that kids who showed up the high school cuz I read their Diaries no and and I understood them too which is even better than just reading them and you know you can see these mass shootings all the time and everyone does the same thing oh how did that happen why did that happen how can it be this way it's like well why don't you read what they said about why they did just assume that that's the reason and if you go if you go oh other Columbine kids oh [Applause] yeah it's like oh they must have been bullied oh yes because you know the natural response of anyone who's been bullied is to go arm yourself to the teeth to plot the destruction of the entire city I think it was of Detroit to line your entire high school Avenue with bombs and then to go and shoot your classmates that's what happens when you're bullied it's like no that that's not what happens when you're bullied that's a stupid explanation it's shallow beyond belief and it and it really emerges only because people don't want to contend with the real issue and the Columbine kids while they were contending with the real issue you know they basically said quite forthrightly that in their own arrogant estimation being itself was corrupt and unnecessary and it would be best if it was eradicated in the most brutal possible way as fast as possible and you get to places like that if you dwell on revenge for three or four years in your mom's basement you know you can go to very dark places and so that's what chapter six is about and you know panzram who was very brutally treated when he was a kid and the Columbine guys who you know had their ups and downs but nothing compared to carl panzram say were we're judges of being and decided that it was flawed and that they were the ones to set it right and so it's a rough chapter but it's more than that it's a meditation on resentment because resentment is a key human motivation and I would say it's um it's a great teacher to to listen to your resentment is one of the best things you can possibly do you have to admit that it exists first and then you have to admit to the fantasies that it's generating and you have to admit to what you would regard as the way out of it so that's all very difficult because it means learning things about yourself that you probably don't want to learn but resentment only means one of two things it means either like shut the hell up grow up quit whining and get on with it that's one thing it means or someone is playing the tyrant to you might even be you and you have something to say and do that you should say and do to put it to a stop and so maybe and resentment can show you the pathway to doing that it's a meditation on resentment and one of the one of the principles that I extracted from that is a core essential person wants other people to change and if you're resentful then your motivations aren't trustworthy in fact they're very very dark and that's why I went to the extreme with people like pens around them the Columbine killers resentful people who want to change the world are not to be trusted what should you do instead how do you treat your own resentment I would say well there's a there's a great I read this great line in and TS Eliot play called the cocktail party and in it this woman comes up to a psychiatrist I think this is in this chapter and she says you know I'm having a really rough time of it I'm suffering badly my life is not going well and and then she says I hope that there's something wrong with me and the psychiatrist she says well here's how I look at it there's either something wrong with the world and I'm just in it and that's how it is and then like what am I going to do about that because it's the whole world or maybe I could be fortunate and there's something wrong with me that's causing all this unnecessary suffering and if I could just set it right I could learn and I could set it right and so well I've been thinking about that for a very long time and I think well if your life isn't going the way it is you know you can find someone else to blame which is pretty convenient for you and also relatively easy or you could think okay I don't like I don't like the way my life is unfolding maybe I don't like life in general because it's tragic and untainted with evil how do I know if my judgement is accurate and the question is well have I really done everything I possibly could to set my life straight because maybe I shouldn't be judging it it's quality or the quality of life itself or being itself for that matter if I haven't done everything I possibly could to set my life straight well so there's a there's a task Solzhenitsyn who I'm a great I'm a great admirer of social nets and his book The Gulag Archipelago was one of the things that brought down the Soviet Union and he said that one man who stopped lying could bring down the tyranny and you know he said that was some authority I think you could easily make the case that the Gulag Archipelago is the greatest book of the 20th century I mean there's other contenders obviously but he said when he was in the gulag camps you know meditating on how the hell he got there and he had a rough life man I mean first of all he was on the Russian front at the beginning of World War two and then he was thrown in the gulag camp and that was just the beginning of his adventures man he had a rough life he was in the camps he was thinking what the hell like how what how did I get here what's going on he had Hitler and Stalin to blame right so if you have if you need someone to blame man Hitler and Stalin that that's great but he he that isn't what he did he said he meditated for a while once he realized that he might have something to do with in some strange way with the way things turned out for him and he said he went over his life with a fine-tooth comb in his memory and thought okay where did I go wrong but by my own judgement when when when I when there was a path in front of me when did I take the path that I knew I shouldn't take because you all know that right you know sometimes you don't know if what you're doing is good or if it's bad it's just ignorance you just don't know but sometimes you bloody well know and you do the thing you know you shouldn't do anyways that happens a lot and why do you do that spiked is part of it it's stupidity there's all sorts of reasons but you certainly know you do it Solzhenitsyn thought okay well what would happen if I took responsibility for where I am in this call sensation camp and then I went over my whole life and tried to figure out all the things I did that were wrong by my own estimation that increased the probability that I would get here and then what would happen if I tried to set them all right now in the present and that's why he wrote the Gulag Archipelago and one of the consequences of that as I said was it sped the dissolution of the Soviet empire so hey that's not bad eh like you make a real confession you really repent you you do your penance which is writing this book and you completely change the geopolitical landscape of the world it's like and that that's worth thinking about because it's not only Solzhenitsyn who did that Nelson Mandela did something quite similar it's not so impossible and so the idea that what you should do if you're feeling resentful about the nature of being or suffering too much for your own life let's say is straighten the damn thing out like seriously try it for a year even try it for a week try not doing the things you know you shouldn't do try not saying the things you know to be false and just watch what happens you might as well give it a shot right because you say well I'm all in for a year you know I'm gonna do things right and then I'll just stand back and I kind of watch how things unfold and maybe I'll reconsider at the end of that year it's like try it try it I mean I would say I've had thousands of letters now from people who are saying hey I tried that you know and hey you know worked you know I quit lying and everything quick you ever see that Simpsons episode where Sideshow Bob keeps stepping on the rake over and over that's like the whole yard is littered with rakes and all he does is walk around and step on then curse steps on a rake and hit some in the face and he curse isn't any steps on another rake and it you know what I mean stop doing that  I don't know if we'll get through all 12 rules guess you'll have to read the damn book anyways rule 7 rule 7 just about killed me like I've had a lot of bad health in the last year and having to rewrite rule 7 coincided with one of those periods that lasted about a month and it was was the hardest chapter by far and it went down the deepest by far and it was really hard to get right it's called do what is meaningful not what is expedient and I'll just tell you a little bit about the chapter because I figured something out in it that and then explained it something that took me decades to figure out so there's this idea it's a it's a very deep Christian idea that the Messiah is the person who takes the world's sins upon himself right that's a characteristic of Christ right it's something the idea is something like Christ died for your sins like what the hell does that mean exactly you know and partly what it means and I would say a slightly corrupted form of Christianity is that you just have to believe that that happened in the and you're redeemed it's like well that's we'll leave that aside for a second but there's an idea there a psychological idea and you know that because the idea doesn't go away it's lasted for thousands of years it's like whoa so the idea signifies something it has a psychological reality independent of its metaphysical reality whatever that might be and so I thought about that for a long time it's like what in the world does that possibly mean and then I realized and you knew this Carl Jung knew this that it was associated with this idea of the shadow I had this client once who her parents man they were pieces of work she her parents taught her I'm swear to you that this is the truth her parents taught her that adults were angels literally and when I saw her she was about thirty and she had a lot of strange symptoms symptoms of sorts I'd never seen psychosomatic symptoms she she she had kind of like quasi epileptic seizures at night and no but she stayed conscious during them it was very difficult to understand at night I won't walk through it but her parents told her that adults were angels and and she was like 28 she had a university degree and and I said well did you ever wonder about that I said didn't you read any history and she said yeah what I'd read something about the terrible things that people did to each other and I would just compartmentalize it and that was actually the key that I used to unlock what was wrong with her which was eventually fixed and I won't go into that but but I said I gave her this book give her two books I gave her a book called the terror that comes in the night which is a book about about sleep paralysis and nightmares because I thought that was what might have be bothering her turned out that wasn't yet then I give her this other book called ordinary ordinary men and it's a great book it's a terrible book terrible dark book about about this police battalion that was moved into Poland during World War two after the Nazis had marched through and it was all made of middle-aged guys who weren't like victims of Nazi totalitarian propaganda when they were kids they were just you know burgeois middle class guys kind of like all of us let's say and they went to police Poland and they were going to have to do some terrible things essentially but their commander told them quite forthrightly that if being involved in wartime policing was too hard on them if they felt that it violated the more psychological violence they could just go back to policing in Germany and very few of them did be partly because they didn't want to abandon their comrades let's say they didn't want them to have to do the dirty work you know and they ended up they were normal policemen they ended up the sorts of people who could take naked pregnant women out into the middle of the field and shoot them in the back of the head that's how the book that's the culmination of their training it's very interesting to read about their training because they were absolutely sickened by what they learned to do like physically sick and vomiting shaking traumatized but they didn't stop and and if you want to know why then you can read the book and I said look read this book but don't bloody well compartmentalize it enough of that it's like read it like you're one of the damn policemen which is how you should read history like you read about Nazi Germany and you think well I'm Oskar Schindler I'd save the Jews it's like no you wouldn't right you wouldn't because people didn't and the probability is very high that you wouldn't and all you have to do is think it through you know what and Frank it's like you're really gonna put your family at risk to hide a group of another family in your attic for like multiple years while there's Nazis parading the street and where if you get exposed you all die you're gonna do that are you it's like very unlikely and and and no wonder it's not surprising that it's unlikely but you don't want to be inflating yourself with self you know with with fictional heroism without actually knowing the facts on the ground so I told her to read read it and to understand that the policemen were her and that's the thing to understand well  the idea that the Savior is the person who takes the world sins upon himself is exactly that it's exactly the same idea it's like the way that there stops being Nazis is for you to know that the Nazis were you and for you to decide not to do that again but you have to know we see this is the thing that people won't do you have to understand that you could not only do what the Nazi camp guards did an or Swiss but that you could all actually enjoy it and then you have to decide that you're not going to do that anymore and that's not an easy thing to figure out well then that's what that chapters about so that's a rough chapter man that's a rough chapter and that's only a bit of what it's about you know there's a lot of there's a lot in there and and that's  anyways that's what that's about um chapter Tim oh yes chapter nine is assume that the person you are listening to might know something you don't this is a chapter about conversation and about the different forms conversation takes and so chapter about humility and it's a chapter about listening and humility element is it took me a long time to understand why there's religious injunctions supporting humility to even understand what the word really meant and that sort of technical sense and it means something like this it means what you don't know is more important than what you know and that's a lovely thing too then then what you don't know can start to be your friend you see people are very defensive about what they know and for the reasons we've already discussed but the thing is you don't know enough and the Riu can tell you don't know enough because your life is not what it could be and neither is the life of the people around you you just don't know enough and so what that means is that every time you encounter some evidence that you're ignorant someone points it out you should be happy about that because you think oh you just told me how I'm wrong it's like great like maybe I had to sift through a lot of nonsense to get through the real message that you're telling me but if you could actually tell me some way that I'm wrong and then maybe give me a hint about how to not be wrong like that well then I wouldn't have to be wrong like that anymore that that would be a good thing and and you can you can you can embark on that adventure by listening to people and if you listen to people they will tell you they'll tell you amazing things if you listen to them and many of those things are little tools that you can put in your toolkit like Batman and then you can go out into the world and use those tools and you don't have to fall blindly into a pit quite as often and so the humility element is well do you want to be right or do you want to be learning and it's deeper than that it's do you want to be the the tyrannical king who's already got everything figured out or do you want to be the continually transforming hero or fool for that matter who's getting better all the time and that's actually a choice you know it's a deep choice and it's better to be the self transforming fool who's humble enough to make friends with what he or she doesn't know and to listen when people talk and listening is a transformative exercise like if if you listen to the people in your life for example if you actually listen to them they'll tell you what's wrong with them and how to fix it and what they want they can't even help it if you start listening because people are so shocked if you actually listen to them that they tell you all sorts of things that they might not have even intended to things they don't even know and then you can you can work with that and so and the other thing that's so interesting you know now and then you have a meaningful conversation right you have a good conversation with someone you walk when you think geez you know we really connected and I know more than I did when I came away from that conversation and during the conversation you're really engrossed in it and that that that feeling of being engrossed is a feeling of meaning and the feeling of meaning is engendered because you're having a transformative conversation so your brain produces that feeling of meaning for it says oh yeah it's exactly where you should be right here now it's it's the right place and time for you and that's a great place to occupy and so a good conversation where people are listening has exactly that nature and the reason it has that nature is because it is in fact transformative it's one of the truisms of clinical psychology like if you're a clinical psychologist a huge part of what you do is just listen to people it's like you know old they come in they're unhappy and they'd rather not be something like that you say well why do you think you might be unhappy and they don't know they have some ideas they may have to ramble around for like a year before they figure out why they're unhappy they get rid of a bunch of reasons why they thought they were unhappy that are untrue and then you kind of get to the heart of the problem then you might ask them well if you could have what you wanted so that your life would be okay what would that look like then they have to ramble around a bunch about that because they don't really know but the listening will straighten them out because people think by talking and in order to think you have to have someone to listen because it's very hard to think hardly anyone can think and even the people who can think can only think about a limited number of things but almost everybody can talk and you can listen to yourself talk and if someone listens to you then well then you also have a foil for your thoughts right because you can watch the person when you're talking and see if you're boring or see if you're amusing or if you're engrossing all of those things and so listening that's a very good thing I owed lino Carl Rogers dictum he was a famous clinical psychologist this is another great little tip Rodgers said here's a trick to tell if you listening so let's say someone lays out their perspective for you and then what you do is say look here's what I think you said I think you said this and this and this and this and then this is that right have I got what you're saying right and maybe the person says God you haven't been listening at all and you know then they have to straighten you out or maybe they say yeah yeah you've got it and then the nice thing about that is that you summarized their argument for them which can be very helpful and for you but also you don't get to make the person into a straw man so like if you're arguing with your wife let's say or your husband big parties gonna want to win that's stupid because if you win you get to be top Lobster but they get to be bottom Lobster and if you want to live with bottom Lobster then like more power to you but I wouldn't recommend it right because you don't want that you want to you want to defeat your wife in an argument oh well great like if she was gonna disappear tomorrow no problem but like you're gonna like live with defeated miserable her for the next week that's no good so you listen and you think okay well here's here's what you what I think you said and maybe even make it a little stronger and more elaborated than was the case with the original utterance so that you get the damn argument right because you don't want to win you want to fix the problem that's the winning and so the summary with listening is so useful for that because the person can say well yeah that's what I meant it's like then well then you have to grapple without and Roger said well people we usually won't because you know if you live with someone and they tell you the truth about the situation it usually means that there's something really stupid that you're doing you want them to but there's something stupid that you're doing that you know you're doing that you actually have to stop and you know that's difficult and unlikely but well if you don't stop then you get to have the same damn problem every day or every week for the rest of your life so it's probably better to under grow the misery of stopping it than the misery of continuing it but that's the injunction to listen rule 11 is don't bother children when they're skateboarding and that's a meditation on the difference between weakness and goodness you see one of the things that's happened in our society and especially with regards to our attitude towards men but also our attitude towards the masculinity and women so it's just as toxic for women is that we seem to have concluded that strong men are dangerous and that's partly because we think Western culture is a tyrannical patriarchy and the only reason you get to the top is because you misuse power and so all the men who are at the top of the Harkey are all misusing their power and they're all tyrannical and all the guys who have the aim and ambition to achieve that or just tyrants in training and that's sort of the basic attitude that we have towards our own culture and towards young men now and that's just there's everything about that is pathological and inexcusable and shameful I mean first the claim that Western culture [Applause] the idea that Western culture is primarily a patriarchal tyranny is like  well first of all it's it's historically ignorant beyond belief because what are you compared to what exactly how many civilized countries are there in the world you know three dozen the rest of them are run by brutal thugs right and it isn't just thugs at the talkman because that isn't how it works in Indian country that's corrupt the corruption is spread through the entire country so and we're not like that and that's that I mean Western culture is fundamentally honest and I can give an example of that because people don't like that idea eBay proved that because here here it did it did it was a very interesting thing because when a they first popped up like the cynic would say eBay is not gonna work because I don't know you you live in the other side of the country you're gonna send me junk and I'm gonna send you a check that bounces and that'll be the end of eBay right right that's what a cynic would say and then what happened was that brokers popped up and they said well look we'll guarantee the exchange rights for a fee 10% we'll make sure that you don't send junk and we'll make sure your cheque doesn't bounce and what happened was the brokers couldn't find enough business and the reason for that was all the transactions were honest all of them you know it's like 19 if you were on eBay and you have a reputation of less than 99 percent there's actually something wrong with you you know okay 98 percent but really it's that it's that tight and so the default position was you're offering this I'll buy it we'll make the exchange fairly and what happened was a bunch of capital that was frozen technically speaking junk that people had that other people could mean got freed up and he'd they freed up a tremendous amount of money for people and it was all a consequence of default honesty we also know that one of the best predictors of success in Western world is conscientiousness and conscientious people are honest and have integrity and are dutiful and do what they say they'll do and that's a really good predictor of long-term life success especially as a manager and administrator or something like that so  also chapter 11 is a discussion about the assault on the on the positive masculine and I read it partly as a continuation of what Nietzsche announced back in the late 1800s as the death of God right because in Western culture God was a masculine figure and the idea that the divine masculine had been decimated which was basically Nietzsche's pronouncement has filtered all the way down to masculinity itself and I think that's an absolutely appalling outcome it's it's it's something that could only be desired by someone who is a true enemy of humanity and so partly chapter 11 is a call to encouragement it's like you want and I've been telling young men in particular but young women as well though they don't seem to be quite as in need of the message to adopt responsibility for their life to tell the truth and to understand that their failure to participate fully in being leaves a hole that's precisely the size of their soul in the cultural landscape it's no joke we need all the light we can possibly bring to bear on the situation and when I firmly believe that and I believe that for all sorts of reasons and I think there are very deep reasons and that's partly why I would say rules to life also has it's a funny book because it has a very religious core but it's also very heavily grounded in evolutionary biology so but that's what chapter 11 is about and it's about people who are the enemy of the human spirit the people who restrict children's play for example which is a particularly pathological thing to do there's a movement now to not let children have best friends it's like really what the hell man that's so yeah there are so many things wrong with that idea that would take an entire another lecture just to scrape the surface but mostly it's just well I wouldn't even start on  final rule that's called pet a cat when you encounter one on the street and it's it's a very it's the most personal chapter in the book it's a lot about my daughter and my daughter was very ill when she was well when she was a kid but particularly when she was a teenager she had a very terrible time of it she had juvenile rheumatoid arthritis and when she was between the ages of 14 and 16 at first destroyed her hip which had to be replaced and then it destroyed the ankle on her other leg which had to be replaced and she walked around for two years on broken legs and she was taking massive doses of opiates and could hardly stay awake and like and she had this advanced autoimmune disease which produced all sorts of other symptoms that were just as bad as the joint degeneration but which are harder to describe and so it's just bloody brutal you know and as a test of your faith there's almost nothing that's more direct than a serious illness inflicted upon an innocent child right and so the chapter is a meditation on that and also on well what to do in a situation like that because everyone is going to have a situation like that in some sense you know because you'll be faced with illness in the people that you love and in crisis and so it's a disc it's a practical guide to coping with those sorts of things like in one of the things you do when you're overwhelmed by crisis is you shorten your time frame you know it's like you can't think about next month maybe you can't even bloody well think about next week or maybe not even tomorrow you know because now is just so overwhelming that that's all there is it's like and that's what you do you cut your timeframe back until you can cope with it and if it's not the next week that you see how to get through then it's the next day and if it's not the next day then it's the next hour and if it's not the next hour then it's the next minute and you know people are very very very very tough and it turns out that if you face things it turns out that if you face things that you can put up with a lot more than you think you can put up with and you can do it without becoming corrupted and she did recover quite quite fully and much as a consequence of her own nationÃ\\xads because she figured out what was wrong with her and then took the necessary steps to fix it which is nothing short of a bloody miracle as far as I'm concerned and anyway as part of the the the cat bit is I actually start by talking about our dog who actually died about a year ago but he's still alive in the book I you know I let people know because dog lovers love dogs and if you love cats then they think you don't like dogs and they don't like you so I also point out at the beginning of the chapter that you know if you want to pet a dog on the street that's okay too so you don't have to get up in arms about it but but the idea is that you know you have to be alert when you're suffering you have to be alert to the beauty in life the unexpected beauty in life and that's kind of what I was trying to get across with the idea of the cat there's this cat that lives across the street from us called ginger and ginger is a Siamese cat and cats really aren't domesticated they technically speaking they're still wild animals but they kind of like people god only knows why but they do you know and so ginger will come wandering over and our dog looks at her but they're friends and she rolls over on his back and seco used to you know knows are a bit and and then she kind of mosey over and let you pet her if she was feeling like it's out day and you know you have to look for those little bit of that little bit of sparkling crystal in the darkness when things are bad you have to look and see where things are still beautiful and where there's still something that's sustaining and you know you narrow your timeframe and you'd be grateful for what you have and that can get you through some very dark times and maybe even successfully if you're lucky but even if unsuccessfully then maybe it's only tragic and not absolute hell and you can do that you know in the worst situation you can make it only tragic and not hell and there's a big gap between tragedy and hell you know there's nothing worse at a deathbed than to see the people there fighting the death is bad enough but you can take that as terrible as it is and make it into something that's absolutely unbearable and maybe I think and this is sort of what I closed the book with is this idea is that if we didn't all attempt to make terrible things even worse than they are then maybe we could tolerate the terrible things that we have to put up with in order to exist and maybe we could make the world into a better place you know and it's what we should be doing and what we could be doing because we don't have anything better to do and that's what the book is about and that's the end of 12 rules for life  [Applause] [Music]  [Applause]  well we've overrun joyously and normally I would have sort of cut the talk and done some things so we can have questions that I really didn't think it was appropriate this evening stroke was absolutely - and inspiring but sir I'm gonna do one question one question only and and I'm gonna leave Jordan to actually decide what's the question he's going to ask so I'm going to take three from the audience I'm gonna read out three that event have come from the livestream one from the livestream is how do you challenge the identity politics of today the second is a more personal one is word you fall short yourself in these twelve rules and is it a constant adjustment and now let me take three questions from the audience and I'll leave Jordan to then decide which is the last question that he wants to ask so first hand there first of all it's an honor to be at your lecture and the question is I wanted to ask like for example some people like for example stefan molyneux who interviewed you puts I think tremendous attention to admitting Falls of parents and admitting the harm that was done when getting better and working through adversive childhood experience and I wanted to ask you about about that what you think about that my question is about chapter 9 about being humble and listening to what your enemies are saying and criticizing you I'm a kind of person who kind of speak speak my thoughts so I I speak them to my friends and see how they bounce at them as so I noticed that there's always a group of my friends who always criticize what I'm saying and not even try to understand what I'm coming I'm coming from and I've always wondered how to deal with that I mean I want to listen to what they're saying but they are not understanding what I'm they're not trying to listen to what I'm saying so what would you do in that situation very briefly okay there's a line in the New Testament that's relevant to that do not cast pearls before swine and what that means is that if people are not listening to you stop talking to them and that's really that is the best piece of advice that I can give you and what happens is is that if you stop talking to people who aren't listening to you and start watching them instead they will tell you what they're up to but so if you have things to say say them but you find people that will listen talk to them the ones who aren't listening pull back because you're you're devaluing what you have to say by offering it to an audience that does nothing but rejected and that's a good guideline to life in general so pull back yep and our last question is gentleman over there with the in blue thank you it brought smile to my face when you mentioned the work of John Taylor Gatto and I just wanted to know what you think the relationship is between the classic Trivium and the Holy Trinity and if there is how has that changed over time I'm going to leave you to answer one question only okay okay and then  and then you're gonna be back on stage dedicating yes yes okay okay I think I'm going to answer where do you fall short in these twelve rules is it a cause constant adjustment you know like I wrote these rules why did I write these rules well you know and especially when I said well you should try to improve yourself instead of trying to set the world straight or instead of worrying about what other people are doing wrong you might say well that's a hell of a thing for someone to say you just wrote a book called twelve rules for life it's like you know but the thing is is that I wasn't just writing that I was writing that for me as much as for anyone else and I mean that's I really mean that sincerely you know I had an opportunity to spend somewhere around five years meditating on how you should conduct yourself so that your life is what it could be and like I'm in the group of people that I'm advising you know you know what I mean it's like all of these things are very difficult to stand up straight to remember that and to treat yourself like you're someone worthwhile and to make friends with people who are good for you and and and to tell the truth or at least not to lie I mean these are all ideals right and especially taken as a whole they constitute a kind of ideal and you never approve you never you never attain the ideal the I and not only that it recedes as you approach it right because you straighten yourself out you think well I've got it now and you think now wait a minute there's more to go there's still more to go and then you get that much farther along the line you think oh yeah I thought this was the end of the road it's like no there's plenty of imperfections left to iron out and so it is a constant adjustment and but there's something about that that's also positive because you might say that it's not so much that there isn't such a thing as a good person it's that our idea of what constitutes good isn't right because a good person is someone who's trying to get better and no matter how good you are there's better that you can get but the real goodness is in the attempt right it's in the it's in the process to use somewhat of a cliche you know there's this and I'll close with this and it's a good way to close you know and this is a psychological observation the the central figure of Western culture is Christ and we can look at that psychologically because Christ is the dying and resurrecting hero and what does that mean psychologically well it means that you learn things painfully and when you learn something painfully a part of you has to die that's the pain you know when a dream is shattered for example a huge part of you that constituted that dream maybe even the biological substrate of that gene has to be stripped away and burned and so life is a constant process of death and rebirth and to participate in that fully is to allow yourself to be redeemed by it and so the good is that process of death and rebirth voluntarily undertaken it's like you're not as good as you could be so you let that part of you die and if someone comes along and says you know there's some dead wood here man it needs to be burned off you think well that's stuff still a bit alive when that burns it's gonna hurt it's like yeah well no kidding but maybe the thing that emerges in its place is something better and I think this is the secret of human beings this is what we're like you know unlike any other creature is that we can let our old selves die and let our new selves be born and that's what we should do and so where do I fall short in these twelve rules well endlessly because well here's a way of thinking about it until the entire world is redeemed we all fall short and that's probably a good place to stop  [Music] you\n"
          ],
          "name": "stdout"
        }
      ]
    },
    {
      "cell_type": "code",
      "metadata": {
        "colab": {
          "base_uri": "https://localhost:8080/"
        },
        "id": "dzgT_WPr4Dt9",
        "outputId": "ee972b9f-a223-4c9d-a8dc-bbeaf32ed189"
      },
      "source": [
        "print(\"shape of X_data_array: {}\".format(train_features.shape))\n",
        "print(\"example of vectorized training data: {}\".format(train_features[0]))\n",
        "print(np.unique(y, return_counts = True))  "
      ],
      "execution_count": 7,
      "outputs": [
        {
          "output_type": "stream",
          "text": [
            "shape of X_data_array: (484, 5000)\n",
            "example of vectorized training data: [0.         0.         0.00362561 ... 0.         0.         0.        ]\n",
            "(array([0, 1]), array([348, 136]))\n"
          ],
          "name": "stdout"
        }
      ]
    },
    {
      "cell_type": "code",
      "metadata": {
        "id": "CCP4MUcH4NNN"
      },
      "source": [
        "from sklearn.model_selection import train_test_split\n",
        "x_train, x_val, y_train, y_val = train_test_split(train_features, y, test_size = 0.20, random_state = 1,stratify=y)"
      ],
      "execution_count": 8,
      "outputs": []
    },
    {
      "cell_type": "code",
      "metadata": {
        "colab": {
          "base_uri": "https://localhost:8080/"
        },
        "id": "7RdXVB3Q5YbW",
        "outputId": "5dd98217-a615-4f6d-a94c-2a1197c96ef3"
      },
      "source": [
        "from sklearn.svm import SVC\n",
        "from sklearn.metrics import accuracy_score\n",
        "\n",
        "clf = SVC(kernel='linear')\n",
        "clf.fit(x_train,y_train)\n",
        "y_pred = clf.predict(x_val)\n",
        "print(accuracy_score(y_val,y_pred))"
      ],
      "execution_count": 9,
      "outputs": [
        {
          "output_type": "stream",
          "text": [
            "0.8762886597938144\n"
          ],
          "name": "stdout"
        }
      ]
    },
    {
      "cell_type": "code",
      "metadata": {
        "id": "VRPPE8ul7uCJ",
        "colab": {
          "base_uri": "https://localhost:8080/"
        },
        "outputId": "323a34b5-69b0-4e06-f832-7d9b32f6bdb3"
      },
      "source": [
        "from sklearn.model_selection import GridSearchCV \r\n",
        "\r\n",
        "# defining parameter range \r\n",
        "param_grid = {'C': [0.1, 1, 10, 100, 1000],  \r\n",
        "              'gamma': [1, 0.1, 0.01, 0.001, 0.0001], \r\n",
        "              'kernel': ['linear','poly','rbf']}\r\n",
        "\r\n",
        "grid = GridSearchCV(SVC(), param_grid, cv=10) \r\n",
        "  \r\n",
        "# fitting the model for grid search \r\n",
        "grid.fit(x_train, y_train)"
      ],
      "execution_count": 10,
      "outputs": [
        {
          "output_type": "execute_result",
          "data": {
            "text/plain": [
              "GridSearchCV(cv=10, error_score=nan,\n",
              "             estimator=SVC(C=1.0, break_ties=False, cache_size=200,\n",
              "                           class_weight=None, coef0=0.0,\n",
              "                           decision_function_shape='ovr', degree=3,\n",
              "                           gamma='scale', kernel='rbf', max_iter=-1,\n",
              "                           probability=False, random_state=None, shrinking=True,\n",
              "                           tol=0.001, verbose=False),\n",
              "             iid='deprecated', n_jobs=None,\n",
              "             param_grid={'C': [0.1, 1, 10, 100, 1000],\n",
              "                         'gamma': [1, 0.1, 0.01, 0.001, 0.0001],\n",
              "                         'kernel': ['linear', 'poly', 'rbf']},\n",
              "             pre_dispatch='2*n_jobs', refit=True, return_train_score=False,\n",
              "             scoring=None, verbose=0)"
            ]
          },
          "metadata": {
            "tags": []
          },
          "execution_count": 10
        }
      ]
    },
    {
      "cell_type": "code",
      "metadata": {
        "colab": {
          "base_uri": "https://localhost:8080/"
        },
        "id": "IhX3Dy0oEee1",
        "outputId": "e508aef1-6330-42c0-fe84-45610d6c322c"
      },
      "source": [
        "# print best parameter after tuning \r\n",
        "print(grid.best_params_) \r\n",
        "  \r\n",
        "# print how our model looks after hyper-parameter tuning \r\n",
        "print(grid.best_estimator_)"
      ],
      "execution_count": 11,
      "outputs": [
        {
          "output_type": "stream",
          "text": [
            "{'C': 10, 'gamma': 1, 'kernel': 'rbf'}\n",
            "SVC(C=10, break_ties=False, cache_size=200, class_weight=None, coef0=0.0,\n",
            "    decision_function_shape='ovr', degree=3, gamma=1, kernel='rbf', max_iter=-1,\n",
            "    probability=False, random_state=None, shrinking=True, tol=0.001,\n",
            "    verbose=False)\n"
          ],
          "name": "stdout"
        }
      ]
    },
    {
      "cell_type": "code",
      "metadata": {
        "colab": {
          "base_uri": "https://localhost:8080/"
        },
        "id": "ES8kONNiFObb",
        "outputId": "b6f67a15-d393-4f8a-dd4d-24289095dc58"
      },
      "source": [
        "from sklearn.metrics import classification_report, confusion_matrix, accuracy_score\r\n",
        "grid_predictions = grid.predict(x_val)\r\n",
        "# print classification report \r\n",
        "print(classification_report(y_val, grid_predictions)) \r\n",
        "print(confusion_matrix(y_val, grid_predictions)) \r\n",
        "print()\r\n",
        "print(accuracy_score(y_val, grid_predictions))"
      ],
      "execution_count": 12,
      "outputs": [
        {
          "output_type": "stream",
          "text": [
            "              precision    recall  f1-score   support\n",
            "\n",
            "           0       0.93      0.90      0.91        70\n",
            "           1       0.76      0.81      0.79        27\n",
            "\n",
            "    accuracy                           0.88        97\n",
            "   macro avg       0.84      0.86      0.85        97\n",
            "weighted avg       0.88      0.88      0.88        97\n",
            "\n",
            "[[63  7]\n",
            " [ 5 22]]\n",
            "\n",
            "0.8762886597938144\n"
          ],
          "name": "stdout"
        }
      ]
    },
    {
      "cell_type": "code",
      "metadata": {
        "colab": {
          "base_uri": "https://localhost:8080/"
        },
        "id": "X0guTesQhoOW",
        "outputId": "867e3415-d8c9-4caa-9968-d9135817dc82"
      },
      "source": [
        "from sklearn.metrics import classification_report, confusion_matrix, accuracy_score\n",
        "# print classification report \n",
        "print(classification_report(y_val,y_pred))\n",
        "print(confusion_matrix(y_val,y_pred))\n",
        "print()\n",
        "print(accuracy_score(y_val,y_pred))"
      ],
      "execution_count": null,
      "outputs": [
        {
          "output_type": "stream",
          "text": [
            "              precision    recall  f1-score   support\n",
            "\n",
            "           0       0.90      0.93      0.92        70\n",
            "           1       0.80      0.74      0.77        27\n",
            "\n",
            "    accuracy                           0.88        97\n",
            "   macro avg       0.85      0.83      0.84        97\n",
            "weighted avg       0.87      0.88      0.87        97\n",
            "\n",
            "[[65  5]\n",
            " [ 7 20]]\n",
            "\n",
            "0.8762886597938144\n"
          ],
          "name": "stdout"
        }
      ]
    },
    {
      "cell_type": "code",
      "metadata": {
        "colab": {
          "base_uri": "https://localhost:8080/",
          "height": 328
        },
        "id": "cPf8GwPRKDbs",
        "outputId": "3ca3f3b9-2ef5-40cb-c8cd-3ebda726da4b"
      },
      "source": [
        "from sklearn.model_selection import GridSearchCV \n",
        "\n",
        "# defining parameter range \n",
        "param_grid = {'C': [0.1, 1, 10, 100, 1000],  \n",
        "              'gamma': [1, 0.1, 0.01, 0.001, 0.0001], \n",
        "              'kernel': ['linear','poly','rbf']}\n",
        "\n",
        "grid = GridSearchCV(SVC(), param_grid, cv=10) \n",
        "  \n",
        "# fitting the model for grid search \n",
        "grid.fit(x_train, y_train)"
      ],
      "execution_count": null,
      "outputs": [
        {
          "output_type": "error",
          "ename": "KeyboardInterrupt",
          "evalue": "ignored",
          "traceback": [
            "\u001b[0;31m---------------------------------------------------------------------------\u001b[0m",
            "\u001b[0;31mKeyboardInterrupt\u001b[0m                         Traceback (most recent call last)",
            "\u001b[0;32m<ipython-input-15-651fd2d2bf21>\u001b[0m in \u001b[0;36m<module>\u001b[0;34m()\u001b[0m\n\u001b[1;32m      9\u001b[0m \u001b[0;34m\u001b[0m\u001b[0m\n\u001b[1;32m     10\u001b[0m \u001b[0;31m# fitting the model for grid search\u001b[0m\u001b[0;34m\u001b[0m\u001b[0;34m\u001b[0m\u001b[0;34m\u001b[0m\u001b[0m\n\u001b[0;32m---> 11\u001b[0;31m \u001b[0mgrid\u001b[0m\u001b[0;34m.\u001b[0m\u001b[0mfit\u001b[0m\u001b[0;34m(\u001b[0m\u001b[0mx_train\u001b[0m\u001b[0;34m,\u001b[0m \u001b[0my_train\u001b[0m\u001b[0;34m)\u001b[0m\u001b[0;34m\u001b[0m\u001b[0;34m\u001b[0m\u001b[0m\n\u001b[0m",
            "\u001b[0;32m/usr/local/lib/python3.6/dist-packages/sklearn/model_selection/_search.py\u001b[0m in \u001b[0;36mfit\u001b[0;34m(self, X, y, groups, **fit_params)\u001b[0m\n\u001b[1;32m    708\u001b[0m                 \u001b[0;32mreturn\u001b[0m \u001b[0mresults\u001b[0m\u001b[0;34m\u001b[0m\u001b[0;34m\u001b[0m\u001b[0m\n\u001b[1;32m    709\u001b[0m \u001b[0;34m\u001b[0m\u001b[0m\n\u001b[0;32m--> 710\u001b[0;31m             \u001b[0mself\u001b[0m\u001b[0;34m.\u001b[0m\u001b[0m_run_search\u001b[0m\u001b[0;34m(\u001b[0m\u001b[0mevaluate_candidates\u001b[0m\u001b[0;34m)\u001b[0m\u001b[0;34m\u001b[0m\u001b[0;34m\u001b[0m\u001b[0m\n\u001b[0m\u001b[1;32m    711\u001b[0m \u001b[0;34m\u001b[0m\u001b[0m\n\u001b[1;32m    712\u001b[0m         \u001b[0;31m# For multi-metric evaluation, store the best_index_, best_params_ and\u001b[0m\u001b[0;34m\u001b[0m\u001b[0;34m\u001b[0m\u001b[0;34m\u001b[0m\u001b[0m\n",
            "\u001b[0;32m/usr/local/lib/python3.6/dist-packages/sklearn/model_selection/_search.py\u001b[0m in \u001b[0;36m_run_search\u001b[0;34m(self, evaluate_candidates)\u001b[0m\n\u001b[1;32m   1149\u001b[0m     \u001b[0;32mdef\u001b[0m \u001b[0m_run_search\u001b[0m\u001b[0;34m(\u001b[0m\u001b[0mself\u001b[0m\u001b[0;34m,\u001b[0m \u001b[0mevaluate_candidates\u001b[0m\u001b[0;34m)\u001b[0m\u001b[0;34m:\u001b[0m\u001b[0;34m\u001b[0m\u001b[0;34m\u001b[0m\u001b[0m\n\u001b[1;32m   1150\u001b[0m         \u001b[0;34m\"\"\"Search all candidates in param_grid\"\"\"\u001b[0m\u001b[0;34m\u001b[0m\u001b[0;34m\u001b[0m\u001b[0m\n\u001b[0;32m-> 1151\u001b[0;31m         \u001b[0mevaluate_candidates\u001b[0m\u001b[0;34m(\u001b[0m\u001b[0mParameterGrid\u001b[0m\u001b[0;34m(\u001b[0m\u001b[0mself\u001b[0m\u001b[0;34m.\u001b[0m\u001b[0mparam_grid\u001b[0m\u001b[0;34m)\u001b[0m\u001b[0;34m)\u001b[0m\u001b[0;34m\u001b[0m\u001b[0;34m\u001b[0m\u001b[0m\n\u001b[0m\u001b[1;32m   1152\u001b[0m \u001b[0;34m\u001b[0m\u001b[0m\n\u001b[1;32m   1153\u001b[0m \u001b[0;34m\u001b[0m\u001b[0m\n",
            "\u001b[0;32m/usr/local/lib/python3.6/dist-packages/sklearn/model_selection/_search.py\u001b[0m in \u001b[0;36mevaluate_candidates\u001b[0;34m(candidate_params)\u001b[0m\n\u001b[1;32m    687\u001b[0m                                \u001b[0;32mfor\u001b[0m \u001b[0mparameters\u001b[0m\u001b[0;34m,\u001b[0m \u001b[0;34m(\u001b[0m\u001b[0mtrain\u001b[0m\u001b[0;34m,\u001b[0m \u001b[0mtest\u001b[0m\u001b[0;34m)\u001b[0m\u001b[0;34m\u001b[0m\u001b[0;34m\u001b[0m\u001b[0m\n\u001b[1;32m    688\u001b[0m                                in product(candidate_params,\n\u001b[0;32m--> 689\u001b[0;31m                                           cv.split(X, y, groups)))\n\u001b[0m\u001b[1;32m    690\u001b[0m \u001b[0;34m\u001b[0m\u001b[0m\n\u001b[1;32m    691\u001b[0m                 \u001b[0;32mif\u001b[0m \u001b[0mlen\u001b[0m\u001b[0;34m(\u001b[0m\u001b[0mout\u001b[0m\u001b[0;34m)\u001b[0m \u001b[0;34m<\u001b[0m \u001b[0;36m1\u001b[0m\u001b[0;34m:\u001b[0m\u001b[0;34m\u001b[0m\u001b[0;34m\u001b[0m\u001b[0m\n",
            "\u001b[0;32m/usr/local/lib/python3.6/dist-packages/joblib/parallel.py\u001b[0m in \u001b[0;36m__call__\u001b[0;34m(self, iterable)\u001b[0m\n\u001b[1;32m   1042\u001b[0m                 \u001b[0mself\u001b[0m\u001b[0;34m.\u001b[0m\u001b[0m_iterating\u001b[0m \u001b[0;34m=\u001b[0m \u001b[0mself\u001b[0m\u001b[0;34m.\u001b[0m\u001b[0m_original_iterator\u001b[0m \u001b[0;32mis\u001b[0m \u001b[0;32mnot\u001b[0m \u001b[0;32mNone\u001b[0m\u001b[0;34m\u001b[0m\u001b[0;34m\u001b[0m\u001b[0m\n\u001b[1;32m   1043\u001b[0m \u001b[0;34m\u001b[0m\u001b[0m\n\u001b[0;32m-> 1044\u001b[0;31m             \u001b[0;32mwhile\u001b[0m \u001b[0mself\u001b[0m\u001b[0;34m.\u001b[0m\u001b[0mdispatch_one_batch\u001b[0m\u001b[0;34m(\u001b[0m\u001b[0miterator\u001b[0m\u001b[0;34m)\u001b[0m\u001b[0;34m:\u001b[0m\u001b[0;34m\u001b[0m\u001b[0;34m\u001b[0m\u001b[0m\n\u001b[0m\u001b[1;32m   1045\u001b[0m                 \u001b[0;32mpass\u001b[0m\u001b[0;34m\u001b[0m\u001b[0;34m\u001b[0m\u001b[0m\n\u001b[1;32m   1046\u001b[0m \u001b[0;34m\u001b[0m\u001b[0m\n",
            "\u001b[0;32m/usr/local/lib/python3.6/dist-packages/joblib/parallel.py\u001b[0m in \u001b[0;36mdispatch_one_batch\u001b[0;34m(self, iterator)\u001b[0m\n\u001b[1;32m    857\u001b[0m                 \u001b[0;32mreturn\u001b[0m \u001b[0;32mFalse\u001b[0m\u001b[0;34m\u001b[0m\u001b[0;34m\u001b[0m\u001b[0m\n\u001b[1;32m    858\u001b[0m             \u001b[0;32melse\u001b[0m\u001b[0;34m:\u001b[0m\u001b[0;34m\u001b[0m\u001b[0;34m\u001b[0m\u001b[0m\n\u001b[0;32m--> 859\u001b[0;31m                 \u001b[0mself\u001b[0m\u001b[0;34m.\u001b[0m\u001b[0m_dispatch\u001b[0m\u001b[0;34m(\u001b[0m\u001b[0mtasks\u001b[0m\u001b[0;34m)\u001b[0m\u001b[0;34m\u001b[0m\u001b[0;34m\u001b[0m\u001b[0m\n\u001b[0m\u001b[1;32m    860\u001b[0m                 \u001b[0;32mreturn\u001b[0m \u001b[0;32mTrue\u001b[0m\u001b[0;34m\u001b[0m\u001b[0;34m\u001b[0m\u001b[0m\n\u001b[1;32m    861\u001b[0m \u001b[0;34m\u001b[0m\u001b[0m\n",
            "\u001b[0;32m/usr/local/lib/python3.6/dist-packages/joblib/parallel.py\u001b[0m in \u001b[0;36m_dispatch\u001b[0;34m(self, batch)\u001b[0m\n\u001b[1;32m    775\u001b[0m         \u001b[0;32mwith\u001b[0m \u001b[0mself\u001b[0m\u001b[0;34m.\u001b[0m\u001b[0m_lock\u001b[0m\u001b[0;34m:\u001b[0m\u001b[0;34m\u001b[0m\u001b[0;34m\u001b[0m\u001b[0m\n\u001b[1;32m    776\u001b[0m             \u001b[0mjob_idx\u001b[0m \u001b[0;34m=\u001b[0m \u001b[0mlen\u001b[0m\u001b[0;34m(\u001b[0m\u001b[0mself\u001b[0m\u001b[0;34m.\u001b[0m\u001b[0m_jobs\u001b[0m\u001b[0;34m)\u001b[0m\u001b[0;34m\u001b[0m\u001b[0;34m\u001b[0m\u001b[0m\n\u001b[0;32m--> 777\u001b[0;31m             \u001b[0mjob\u001b[0m \u001b[0;34m=\u001b[0m \u001b[0mself\u001b[0m\u001b[0;34m.\u001b[0m\u001b[0m_backend\u001b[0m\u001b[0;34m.\u001b[0m\u001b[0mapply_async\u001b[0m\u001b[0;34m(\u001b[0m\u001b[0mbatch\u001b[0m\u001b[0;34m,\u001b[0m \u001b[0mcallback\u001b[0m\u001b[0;34m=\u001b[0m\u001b[0mcb\u001b[0m\u001b[0;34m)\u001b[0m\u001b[0;34m\u001b[0m\u001b[0;34m\u001b[0m\u001b[0m\n\u001b[0m\u001b[1;32m    778\u001b[0m             \u001b[0;31m# A job can complete so quickly than its callback is\u001b[0m\u001b[0;34m\u001b[0m\u001b[0;34m\u001b[0m\u001b[0;34m\u001b[0m\u001b[0m\n\u001b[1;32m    779\u001b[0m             \u001b[0;31m# called before we get here, causing self._jobs to\u001b[0m\u001b[0;34m\u001b[0m\u001b[0;34m\u001b[0m\u001b[0;34m\u001b[0m\u001b[0m\n",
            "\u001b[0;32m/usr/local/lib/python3.6/dist-packages/joblib/_parallel_backends.py\u001b[0m in \u001b[0;36mapply_async\u001b[0;34m(self, func, callback)\u001b[0m\n\u001b[1;32m    206\u001b[0m     \u001b[0;32mdef\u001b[0m \u001b[0mapply_async\u001b[0m\u001b[0;34m(\u001b[0m\u001b[0mself\u001b[0m\u001b[0;34m,\u001b[0m \u001b[0mfunc\u001b[0m\u001b[0;34m,\u001b[0m \u001b[0mcallback\u001b[0m\u001b[0;34m=\u001b[0m\u001b[0;32mNone\u001b[0m\u001b[0;34m)\u001b[0m\u001b[0;34m:\u001b[0m\u001b[0;34m\u001b[0m\u001b[0;34m\u001b[0m\u001b[0m\n\u001b[1;32m    207\u001b[0m         \u001b[0;34m\"\"\"Schedule a func to be run\"\"\"\u001b[0m\u001b[0;34m\u001b[0m\u001b[0;34m\u001b[0m\u001b[0m\n\u001b[0;32m--> 208\u001b[0;31m         \u001b[0mresult\u001b[0m \u001b[0;34m=\u001b[0m \u001b[0mImmediateResult\u001b[0m\u001b[0;34m(\u001b[0m\u001b[0mfunc\u001b[0m\u001b[0;34m)\u001b[0m\u001b[0;34m\u001b[0m\u001b[0;34m\u001b[0m\u001b[0m\n\u001b[0m\u001b[1;32m    209\u001b[0m         \u001b[0;32mif\u001b[0m \u001b[0mcallback\u001b[0m\u001b[0;34m:\u001b[0m\u001b[0;34m\u001b[0m\u001b[0;34m\u001b[0m\u001b[0m\n\u001b[1;32m    210\u001b[0m             \u001b[0mcallback\u001b[0m\u001b[0;34m(\u001b[0m\u001b[0mresult\u001b[0m\u001b[0;34m)\u001b[0m\u001b[0;34m\u001b[0m\u001b[0;34m\u001b[0m\u001b[0m\n",
            "\u001b[0;32m/usr/local/lib/python3.6/dist-packages/joblib/_parallel_backends.py\u001b[0m in \u001b[0;36m__init__\u001b[0;34m(self, batch)\u001b[0m\n\u001b[1;32m    570\u001b[0m         \u001b[0;31m# Don't delay the application, to avoid keeping the input\u001b[0m\u001b[0;34m\u001b[0m\u001b[0;34m\u001b[0m\u001b[0;34m\u001b[0m\u001b[0m\n\u001b[1;32m    571\u001b[0m         \u001b[0;31m# arguments in memory\u001b[0m\u001b[0;34m\u001b[0m\u001b[0;34m\u001b[0m\u001b[0;34m\u001b[0m\u001b[0m\n\u001b[0;32m--> 572\u001b[0;31m         \u001b[0mself\u001b[0m\u001b[0;34m.\u001b[0m\u001b[0mresults\u001b[0m \u001b[0;34m=\u001b[0m \u001b[0mbatch\u001b[0m\u001b[0;34m(\u001b[0m\u001b[0;34m)\u001b[0m\u001b[0;34m\u001b[0m\u001b[0;34m\u001b[0m\u001b[0m\n\u001b[0m\u001b[1;32m    573\u001b[0m \u001b[0;34m\u001b[0m\u001b[0m\n\u001b[1;32m    574\u001b[0m     \u001b[0;32mdef\u001b[0m \u001b[0mget\u001b[0m\u001b[0;34m(\u001b[0m\u001b[0mself\u001b[0m\u001b[0;34m)\u001b[0m\u001b[0;34m:\u001b[0m\u001b[0;34m\u001b[0m\u001b[0;34m\u001b[0m\u001b[0m\n",
            "\u001b[0;32m/usr/local/lib/python3.6/dist-packages/joblib/parallel.py\u001b[0m in \u001b[0;36m__call__\u001b[0;34m(self)\u001b[0m\n\u001b[1;32m    261\u001b[0m         \u001b[0;32mwith\u001b[0m \u001b[0mparallel_backend\u001b[0m\u001b[0;34m(\u001b[0m\u001b[0mself\u001b[0m\u001b[0;34m.\u001b[0m\u001b[0m_backend\u001b[0m\u001b[0;34m,\u001b[0m \u001b[0mn_jobs\u001b[0m\u001b[0;34m=\u001b[0m\u001b[0mself\u001b[0m\u001b[0;34m.\u001b[0m\u001b[0m_n_jobs\u001b[0m\u001b[0;34m)\u001b[0m\u001b[0;34m:\u001b[0m\u001b[0;34m\u001b[0m\u001b[0;34m\u001b[0m\u001b[0m\n\u001b[1;32m    262\u001b[0m             return [func(*args, **kwargs)\n\u001b[0;32m--> 263\u001b[0;31m                     for func, args, kwargs in self.items]\n\u001b[0m\u001b[1;32m    264\u001b[0m \u001b[0;34m\u001b[0m\u001b[0m\n\u001b[1;32m    265\u001b[0m     \u001b[0;32mdef\u001b[0m \u001b[0m__reduce__\u001b[0m\u001b[0;34m(\u001b[0m\u001b[0mself\u001b[0m\u001b[0;34m)\u001b[0m\u001b[0;34m:\u001b[0m\u001b[0;34m\u001b[0m\u001b[0;34m\u001b[0m\u001b[0m\n",
            "\u001b[0;32m/usr/local/lib/python3.6/dist-packages/joblib/parallel.py\u001b[0m in \u001b[0;36m<listcomp>\u001b[0;34m(.0)\u001b[0m\n\u001b[1;32m    261\u001b[0m         \u001b[0;32mwith\u001b[0m \u001b[0mparallel_backend\u001b[0m\u001b[0;34m(\u001b[0m\u001b[0mself\u001b[0m\u001b[0;34m.\u001b[0m\u001b[0m_backend\u001b[0m\u001b[0;34m,\u001b[0m \u001b[0mn_jobs\u001b[0m\u001b[0;34m=\u001b[0m\u001b[0mself\u001b[0m\u001b[0;34m.\u001b[0m\u001b[0m_n_jobs\u001b[0m\u001b[0;34m)\u001b[0m\u001b[0;34m:\u001b[0m\u001b[0;34m\u001b[0m\u001b[0;34m\u001b[0m\u001b[0m\n\u001b[1;32m    262\u001b[0m             return [func(*args, **kwargs)\n\u001b[0;32m--> 263\u001b[0;31m                     for func, args, kwargs in self.items]\n\u001b[0m\u001b[1;32m    264\u001b[0m \u001b[0;34m\u001b[0m\u001b[0m\n\u001b[1;32m    265\u001b[0m     \u001b[0;32mdef\u001b[0m \u001b[0m__reduce__\u001b[0m\u001b[0;34m(\u001b[0m\u001b[0mself\u001b[0m\u001b[0;34m)\u001b[0m\u001b[0;34m:\u001b[0m\u001b[0;34m\u001b[0m\u001b[0;34m\u001b[0m\u001b[0m\n",
            "\u001b[0;32m/usr/local/lib/python3.6/dist-packages/sklearn/model_selection/_validation.py\u001b[0m in \u001b[0;36m_fit_and_score\u001b[0;34m(estimator, X, y, scorer, train, test, verbose, parameters, fit_params, return_train_score, return_parameters, return_n_test_samples, return_times, return_estimator, error_score)\u001b[0m\n\u001b[1;32m    513\u001b[0m             \u001b[0mestimator\u001b[0m\u001b[0;34m.\u001b[0m\u001b[0mfit\u001b[0m\u001b[0;34m(\u001b[0m\u001b[0mX_train\u001b[0m\u001b[0;34m,\u001b[0m \u001b[0;34m**\u001b[0m\u001b[0mfit_params\u001b[0m\u001b[0;34m)\u001b[0m\u001b[0;34m\u001b[0m\u001b[0;34m\u001b[0m\u001b[0m\n\u001b[1;32m    514\u001b[0m         \u001b[0;32melse\u001b[0m\u001b[0;34m:\u001b[0m\u001b[0;34m\u001b[0m\u001b[0;34m\u001b[0m\u001b[0m\n\u001b[0;32m--> 515\u001b[0;31m             \u001b[0mestimator\u001b[0m\u001b[0;34m.\u001b[0m\u001b[0mfit\u001b[0m\u001b[0;34m(\u001b[0m\u001b[0mX_train\u001b[0m\u001b[0;34m,\u001b[0m \u001b[0my_train\u001b[0m\u001b[0;34m,\u001b[0m \u001b[0;34m**\u001b[0m\u001b[0mfit_params\u001b[0m\u001b[0;34m)\u001b[0m\u001b[0;34m\u001b[0m\u001b[0;34m\u001b[0m\u001b[0m\n\u001b[0m\u001b[1;32m    516\u001b[0m \u001b[0;34m\u001b[0m\u001b[0m\n\u001b[1;32m    517\u001b[0m     \u001b[0;32mexcept\u001b[0m \u001b[0mException\u001b[0m \u001b[0;32mas\u001b[0m \u001b[0me\u001b[0m\u001b[0;34m:\u001b[0m\u001b[0;34m\u001b[0m\u001b[0;34m\u001b[0m\u001b[0m\n",
            "\u001b[0;32m/usr/local/lib/python3.6/dist-packages/sklearn/svm/_base.py\u001b[0m in \u001b[0;36mfit\u001b[0;34m(self, X, y, sample_weight)\u001b[0m\n\u001b[1;32m    197\u001b[0m \u001b[0;34m\u001b[0m\u001b[0m\n\u001b[1;32m    198\u001b[0m         \u001b[0mseed\u001b[0m \u001b[0;34m=\u001b[0m \u001b[0mrnd\u001b[0m\u001b[0;34m.\u001b[0m\u001b[0mrandint\u001b[0m\u001b[0;34m(\u001b[0m\u001b[0mnp\u001b[0m\u001b[0;34m.\u001b[0m\u001b[0miinfo\u001b[0m\u001b[0;34m(\u001b[0m\u001b[0;34m'i'\u001b[0m\u001b[0;34m)\u001b[0m\u001b[0;34m.\u001b[0m\u001b[0mmax\u001b[0m\u001b[0;34m)\u001b[0m\u001b[0;34m\u001b[0m\u001b[0;34m\u001b[0m\u001b[0m\n\u001b[0;32m--> 199\u001b[0;31m         \u001b[0mfit\u001b[0m\u001b[0;34m(\u001b[0m\u001b[0mX\u001b[0m\u001b[0;34m,\u001b[0m \u001b[0my\u001b[0m\u001b[0;34m,\u001b[0m \u001b[0msample_weight\u001b[0m\u001b[0;34m,\u001b[0m \u001b[0msolver_type\u001b[0m\u001b[0;34m,\u001b[0m \u001b[0mkernel\u001b[0m\u001b[0;34m,\u001b[0m \u001b[0mrandom_seed\u001b[0m\u001b[0;34m=\u001b[0m\u001b[0mseed\u001b[0m\u001b[0;34m)\u001b[0m\u001b[0;34m\u001b[0m\u001b[0;34m\u001b[0m\u001b[0m\n\u001b[0m\u001b[1;32m    200\u001b[0m         \u001b[0;31m# see comment on the other call to np.iinfo in this file\u001b[0m\u001b[0;34m\u001b[0m\u001b[0;34m\u001b[0m\u001b[0;34m\u001b[0m\u001b[0m\n\u001b[1;32m    201\u001b[0m \u001b[0;34m\u001b[0m\u001b[0m\n",
            "\u001b[0;32m/usr/local/lib/python3.6/dist-packages/sklearn/svm/_base.py\u001b[0m in \u001b[0;36m_dense_fit\u001b[0;34m(self, X, y, sample_weight, solver_type, kernel, random_seed)\u001b[0m\n\u001b[1;32m    256\u001b[0m                 \u001b[0mcache_size\u001b[0m\u001b[0;34m=\u001b[0m\u001b[0mself\u001b[0m\u001b[0;34m.\u001b[0m\u001b[0mcache_size\u001b[0m\u001b[0;34m,\u001b[0m \u001b[0mcoef0\u001b[0m\u001b[0;34m=\u001b[0m\u001b[0mself\u001b[0m\u001b[0;34m.\u001b[0m\u001b[0mcoef0\u001b[0m\u001b[0;34m,\u001b[0m\u001b[0;34m\u001b[0m\u001b[0;34m\u001b[0m\u001b[0m\n\u001b[1;32m    257\u001b[0m                 \u001b[0mgamma\u001b[0m\u001b[0;34m=\u001b[0m\u001b[0mself\u001b[0m\u001b[0;34m.\u001b[0m\u001b[0m_gamma\u001b[0m\u001b[0;34m,\u001b[0m \u001b[0mepsilon\u001b[0m\u001b[0;34m=\u001b[0m\u001b[0mself\u001b[0m\u001b[0;34m.\u001b[0m\u001b[0mepsilon\u001b[0m\u001b[0;34m,\u001b[0m\u001b[0;34m\u001b[0m\u001b[0;34m\u001b[0m\u001b[0m\n\u001b[0;32m--> 258\u001b[0;31m                 max_iter=self.max_iter, random_seed=random_seed)\n\u001b[0m\u001b[1;32m    259\u001b[0m \u001b[0;34m\u001b[0m\u001b[0m\n\u001b[1;32m    260\u001b[0m         \u001b[0mself\u001b[0m\u001b[0;34m.\u001b[0m\u001b[0m_warn_from_fit_status\u001b[0m\u001b[0;34m(\u001b[0m\u001b[0;34m)\u001b[0m\u001b[0;34m\u001b[0m\u001b[0;34m\u001b[0m\u001b[0m\n",
            "\u001b[0;31mKeyboardInterrupt\u001b[0m: "
          ]
        }
      ]
    }
  ]
}